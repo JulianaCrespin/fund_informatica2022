{
 "cells": [
  {
   "cell_type": "code",
   "execution_count": null,
   "metadata": {},
   "outputs": [],
   "source": [
    "import ipywidgets as widgets\n",
    "from ipywidgets import HTML, VBox\n",
    "from IPython.display import display\n",
    "\n",
    "h1_main_section = widgets.HTML(\"\"\"\n",
    "    <h1 style='font-size:25px; color:black'>\n",
    "        <b>Welcome to my first API!</b>\n",
    "    </h1>\"\"\")\n",
    "\n",
    "main_text = widgets.HTML(\"\"\"\n",
    "    <p style='font-size:25px; color:red'>\n",
    "    This is an API built in Python \n",
    "    </p>\"\"\")\n",
    "\n",
    "main_section_vbox = widgets.VBox([h1_main_section, main_text])\n",
    "display(main_section_vbox)\n",
    "\n",
    "from ipywidgets import Layout\n",
    "layouts_intro = Layout(display='flex',\n",
    "                    flex_flow='flex-wrap',\n",
    "                    flex_direction='column',\n",
    "                    width='61%',\n",
    "                    margin='0px 10px 5px 20px',\n",
    "                    padding='2px 4% 0 1%',)\n",
    "main_section_vbox = widgets.VBox([h1_main_section, main_text], layout=layouts_intro)"
   ]
  }
 ],
 "metadata": {
  "language_info": {
   "name": "python"
  },
  "orig_nbformat": 4
 },
 "nbformat": 4,
 "nbformat_minor": 2
}
