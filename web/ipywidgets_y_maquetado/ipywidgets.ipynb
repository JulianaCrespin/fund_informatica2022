{
 "cells": [
  {
   "cell_type": "code",
   "execution_count": null,
   "metadata": {},
   "outputs": [],
   "source": [
    "import ipywidgets as widgets\n",
    "from ipywidgets import HTML, VBox\n",
    "from IPython.display import display\n",
    "\n",
    "h1_main_section = widgets.HTML(\"\"\"\n",
    "    <h1 style='font-size:25px; color:black'>\n",
    "        <b>Welcome to my first API!</b>\n",
    "    </h1>\"\"\")\n",
    "\n",
    "main_text = widgets.HTML(\"\"\"\n",
    "    <p style='font-size:25px; color:red'>\n",
    "    This is an API built in Python \n",
    "    </p>\"\"\")\n",
    "\n",
    "main_section_vbox = widgets.VBox([h1_main_section, main_text])\n",
    "display(main_section_vbox)\n",
    "\n",
    "from ipywidgets import Layout\n",
    "layouts_intro = Layout(display='flex',\n",
    "                    flex_flow='flex-wrap',\n",
    "                    flex_direction='column',\n",
    "                    width='61%',\n",
    "                    margin='0px 10px 5px 20px',\n",
    "                    padding='2px 4% 0 1%',)\n",
    "main_section_vbox = widgets.VBox([h1_main_section, main_text], layout=layouts_intro)"
   ]
  },
  {
   "cell_type": "code",
   "execution_count": null,
   "metadata": {},
   "outputs": [],
   "source": [
    "# !pip3 install ipywidgets"
   ]
  }
 ],
 "metadata": {
  "kernelspec": {
   "display_name": "Python 3.9.13 64-bit (windows store)",
   "language": "python",
   "name": "python3"
  },
  "language_info": {
   "codemirror_mode": {
    "name": "ipython",
    "version": 3
   },
   "file_extension": ".py",
   "mimetype": "text/x-python",
   "name": "python",
   "nbconvert_exporter": "python",
   "pygments_lexer": "ipython3",
   "version": "3.9.13"
  },
  "orig_nbformat": 4,
  "vscode": {
   "interpreter": {
    "hash": "5973d59fe17ffe5feac7a303c763d6aaa7b54ecaf154a641b14242fc09ca8ccf"
   }
  }
 },
 "nbformat": 4,
 "nbformat_minor": 2
}
