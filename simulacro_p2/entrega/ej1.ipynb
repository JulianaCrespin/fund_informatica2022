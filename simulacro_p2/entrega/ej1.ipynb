{
 "cells": [
  {
   "cell_type": "code",
   "execution_count": null,
   "metadata": {},
   "outputs": [],
   "source": [
    "\"\"\"\"\n",
    "a) Dominio: ponyweb.ml\n",
    "b) ¿Qué status_code devuelve el pedido a dicha URL? ¿Y qué content_type?\n",
    "devuelve status code 200\n",
    "'Content-Type': 'application/json; charset=UTF-8'\n",
    "c) Averigüá cuántos Ponies almacena la API \n",
    "Almacena 50 ponies, tiene hasta id=50\n",
    "\"\"\""
   ]
  },
  {
   "cell_type": "code",
   "execution_count": 2,
   "metadata": {},
   "outputs": [
    {
     "name": "stdout",
     "output_type": "stream",
     "text": [
      "{'status': 200, 'data': [{'id': 44, 'name': 'Zephyr Breeze', 'url': 'https://mlp.fandom.com/wiki/Zephyr_Breeze', 'sex': 'Male', 'residence': 'Cloudsdale\\nPonyville (briefly in S6E11)', 'occupation': 'Mane therapist\\nSalonist at The Mane Event\\nRoyal guard (briefly)', 'kind': ['Pegasus'], 'image': ['https://vignette.wikia.nocookie.net/mlp/images/1/14/Zephyr_Breeze_ID_S6E11.png/revision/latest?cb=20160605103015']}]}\n"
     ]
    }
   ],
   "source": [
    "\"\"\" d) ¿Cómo esperás que sea la URL para obtener la información del Pony 44? la url seria: https://ponyweb.ml/v1/character/44 \"\"\"\n",
    "import requests\n",
    "pony44 = requests.get(\"https://ponyweb.ml/v1/character/44\")\n",
    "print(pony44.json())"
   ]
  },
  {
   "cell_type": "code",
   "execution_count": null,
   "metadata": {},
   "outputs": [],
   "source": [
    "\"\"\"\n",
    "¿y cómo será la url para obtener todas las canciones (song)? Probalas y comentá que otras URL se te ocurrirían para reemplazar las que existen\n",
    "Deberia ser https://ponyweb.ml/v1/character/song Sin embargo, no existe el atributo \"song\"\n",
    "\"\"\""
   ]
  },
  {
   "cell_type": "code",
   "execution_count": null,
   "metadata": {},
   "outputs": [],
   "source": [
    "\"\"\" 1) e) \"\"\"\n",
    "info_pony44 = pony44.json()\n",
    "path = (r\"C:\\Users\\Ximena\\Documents\\GitHub\\simulacro_p2_2022_fi_1s-julianacrespin\\Zephyr_Breeze.txt\")\n",
    "with open(path, \"w\") as pony44:\n",
    "    pony44.write(str(info_pony44))"
   ]
  }
 ],
 "metadata": {
  "kernelspec": {
   "display_name": "Python 3.9.13 64-bit (windows store)",
   "language": "python",
   "name": "python3"
  },
  "language_info": {
   "codemirror_mode": {
    "name": "ipython",
    "version": 3
   },
   "file_extension": ".py",
   "mimetype": "text/x-python",
   "name": "python",
   "nbconvert_exporter": "python",
   "pygments_lexer": "ipython3",
   "version": "3.9.13"
  },
  "orig_nbformat": 4,
  "vscode": {
   "interpreter": {
    "hash": "5973d59fe17ffe5feac7a303c763d6aaa7b54ecaf154a641b14242fc09ca8ccf"
   }
  }
 },
 "nbformat": 4,
 "nbformat_minor": 2
}
