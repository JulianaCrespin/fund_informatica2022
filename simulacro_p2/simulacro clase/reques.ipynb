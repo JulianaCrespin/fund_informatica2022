{
 "cells": [
  {
   "cell_type": "code",
   "execution_count": 9,
   "metadata": {},
   "outputs": [],
   "source": [
    "import requests\n",
    "r = requests.get(\"https://ponyweb.ml/v1/character/all\")"
   ]
  },
  {
   "cell_type": "code",
   "execution_count": null,
   "metadata": {},
   "outputs": [],
   "source": [
    "print(r.json())"
   ]
  },
  {
   "cell_type": "code",
   "execution_count": 11,
   "metadata": {},
   "outputs": [
    {
     "name": "stdout",
     "output_type": "stream",
     "text": [
      "{'id': 1, 'name': 'Twilight Sparkle', 'alias': 'Princess Twilight Sparkle', 'url': 'https://mlp.fandom.com/wiki/Twilight_Sparkle', 'sex': 'Female', 'residence': 'Canterlot (S1E1, S9E26)\\nCastle of Friendship, Ponyville (seasons 5-9)\\nGolden Oak Library, Ponyville (seasons 1-4)\\nCrystal Princess Palace (toy line)', 'occupation': \"Ruler of Equestria (S9E26)\\nFounder/leader of the Council of Friendship (S9E26)\\nRuler of the Castle of Friendship (S4E26-S9E26)\\nFounder/principal of the School of Friendship (S8E1-S9E20)\\nStarlight Glimmer's teacher (S5E26-S7E1)\\nGolden Oak Library librarian (seasons 1-4)\\nPrincess Celestia's student (seasons 1-3)\\nStudent at Celestia's School for Gifted Unicorns (formerly)\", 'kind': ['Alicorn', 'Unicorn', 'Human'], 'image': ['https://vignette.wikia.nocookie.net/mlp/images/b/bc/Princess_Twilight_Sparkle_ID_S4E26.png/revision/latest?cb=20160207045127', 'https://vignette.wikia.nocookie.net/mlp/images/6/6c/Twilight_S2E25_cropped.png/revision/latest?cb=20160315121005', 'https://vignette.wikia.nocookie.net/mlp/images/9/97/Twilight_filly_crop_S2E25.png/revision/latest?cb=20140108015837', 'https://vignette.wikia.nocookie.net/mlp/images/1/18/Twilight_Sparkle_infant_ID_MLPS2.png/revision/latest?cb=20190823095629', 'https://vignette.wikia.nocookie.net/mlp/images/e/ef/Future_Twilight_Sparkle_ID_S9E26.png/revision/latest?cb=20191013013633', 'https://vignette.wikia.nocookie.net/mlp/images/0/0c/Twilight_Sparkle_human_at_lockers_EG.png/revision/latest?cb=20141211040145']}\n"
     ]
    }
   ],
   "source": [
    "print(r.json()[\"data\"][0])"
   ]
  },
  {
   "cell_type": "code",
   "execution_count": 12,
   "metadata": {},
   "outputs": [
    {
     "data": {
      "text/plain": [
       "50"
      ]
     },
     "execution_count": 12,
     "metadata": {},
     "output_type": "execute_result"
    }
   ],
   "source": [
    "len(r.json()[\"data\"])"
   ]
  },
  {
   "cell_type": "code",
   "execution_count": 13,
   "metadata": {},
   "outputs": [
    {
     "name": "stdout",
     "output_type": "stream",
     "text": [
      "{'id': 50, 'name': 'Silverstream', 'alias': 'Silver Stream', 'url': 'https://mlp.fandom.com/wiki/Silverstream', 'sex': 'Female', 'residence': 'School of Friendship, Ponyville (as of S8E2)\\nSeaquestria (formerly)', 'occupation': 'Student at the School of Friendship (seasons 8-9)', 'kind': ['Hippogriff', 'Seapony'], 'image': ['https://vignette.wikia.nocookie.net/mlp/images/4/45/Silverstream_ID_S8E1.png/revision/latest?cb=20180329021441', 'https://vignette.wikia.nocookie.net/mlp/images/e/e3/Silverstream_seapony_ID_S8E2.png/revision/latest?cb=20180329021515', 'https://vignette.wikia.nocookie.net/mlp/images/6/67/Future_Silverstream_ID_S9E26.png/revision/latest?cb=20191013044024']}\n"
     ]
    }
   ],
   "source": [
    "print(r.json()[\"data\"][-1])"
   ]
  },
  {
   "cell_type": "code",
   "execution_count": 14,
   "metadata": {},
   "outputs": [
    {
     "data": {
      "text/plain": [
       "'https://ponyweb.ml/v1/character/all'"
      ]
     },
     "execution_count": 14,
     "metadata": {},
     "output_type": "execute_result"
    }
   ],
   "source": [
    "\"\"\" para que sea realmente rest yo hubiera esperado que la url sea: https://ponyweb/all/44  o  https://ponyweb/all?id=44\n",
    " Esto seria lo ideal pero existe gente que programa mal y no respeta el rest\"\"\" \n",
    "\"https://ponyweb.ml/v1/character/all\""
   ]
  },
  {
   "cell_type": "code",
   "execution_count": null,
   "metadata": {},
   "outputs": [],
   "source": [
    "song = requests.get(\"https://ponyweb.ml/v1/song/all\")\n",
    "print(song.json())"
   ]
  },
  {
   "cell_type": "code",
   "execution_count": null,
   "metadata": {},
   "outputs": [],
   "source": [
    "print(song.json()[\"data\"])"
   ]
  },
  {
   "cell_type": "code",
   "execution_count": 17,
   "metadata": {},
   "outputs": [
    {
     "name": "stdout",
     "output_type": "stream",
     "text": [
      "{'id': 40, 'name': 'Babs Seed', 'video': 'https://youtube.com/watch?v=pQlU6EMh-_s', 'length': '00:01:49', 'url': 'https://mlp.fandom.com/wiki/Babs_Seed_(song)', 'episode': 'One Bad Apple', 'musicby': 'Daniel Ingram\\nDavid Corman (drums/guitar)', 'lyricsby': 'Cindy Morrow\\nDaniel Ingram', 'keysignature': 'E-flat major'}\n"
     ]
    }
   ],
   "source": [
    "print(song.json()[\"data\"][39])"
   ]
  },
  {
   "cell_type": "code",
   "execution_count": 18,
   "metadata": {},
   "outputs": [
    {
     "name": "stdout",
     "output_type": "stream",
     "text": [
      "Babs Seed\n"
     ]
    }
   ],
   "source": [
    "\"\"\" la consigna me pide el nombre de la cancion 40\"\"\"\n",
    "print(song.json()[\"data\"][39][\"name\"])"
   ]
  },
  {
   "cell_type": "code",
   "execution_count": 21,
   "metadata": {},
   "outputs": [],
   "source": [
    "\"\"\" 1) e) \"\"\"\n",
    "pony44 = requests.get(\"https://ponyweb.ml/v1/character/44\")\n",
    "info_pony44 = pony44.json()\n",
    "path = (r\"C:\\Users\\Ximena\\Documents\\GitHub\\fund_informatica2022\\simulacro_p2\\simulacro clase\\Zephyr_Breeze.txt\")\n",
    "with open(path, \"w\") as pony44:\n",
    "    pony44.write(str(info_pony44))"
   ]
  }
 ],
 "metadata": {
  "kernelspec": {
   "display_name": "Python 3.9.13 64-bit (windows store)",
   "language": "python",
   "name": "python3"
  },
  "language_info": {
   "codemirror_mode": {
    "name": "ipython",
    "version": 3
   },
   "file_extension": ".py",
   "mimetype": "text/x-python",
   "name": "python",
   "nbconvert_exporter": "python",
   "pygments_lexer": "ipython3",
   "version": "3.9.13"
  },
  "orig_nbformat": 4,
  "vscode": {
   "interpreter": {
    "hash": "5973d59fe17ffe5feac7a303c763d6aaa7b54ecaf154a641b14242fc09ca8ccf"
   }
  }
 },
 "nbformat": 4,
 "nbformat_minor": 2
}
