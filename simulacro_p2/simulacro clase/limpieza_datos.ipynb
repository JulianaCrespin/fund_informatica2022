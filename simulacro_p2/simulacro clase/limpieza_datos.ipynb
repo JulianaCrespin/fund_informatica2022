{
 "cells": [
  {
   "cell_type": "code",
   "execution_count": 65,
   "metadata": {},
   "outputs": [],
   "source": [
    "import pandas as pd\n",
    "import seaborn as sns\n",
    "from sklearn.preprocessing import StandardScaler\n",
    "from sklearn.cluster import KMeans, DBSCAN\n",
    "from sklearn.metrics import silhouette_samples, silhouette_score\n",
    "import matplotlib.pyplot as plt \n",
    "import matplotlib.cm as cm \n",
    "import numpy as np\n",
    "from scipy import stats"
   ]
  },
  {
   "cell_type": "code",
   "execution_count": 85,
   "metadata": {},
   "outputs": [
    {
     "data": {
      "text/html": [
       "<div>\n",
       "<style scoped>\n",
       "    .dataframe tbody tr th:only-of-type {\n",
       "        vertical-align: middle;\n",
       "    }\n",
       "\n",
       "    .dataframe tbody tr th {\n",
       "        vertical-align: top;\n",
       "    }\n",
       "\n",
       "    .dataframe thead th {\n",
       "        text-align: right;\n",
       "    }\n",
       "</style>\n",
       "<table border=\"1\" class=\"dataframe\">\n",
       "  <thead>\n",
       "    <tr style=\"text-align: right;\">\n",
       "      <th></th>\n",
       "      <th>ID</th>\n",
       "      <th>Nombre</th>\n",
       "      <th>Apellido</th>\n",
       "      <th>Mail</th>\n",
       "      <th>Ingreso</th>\n",
       "      <th>Compras mensuales un pago</th>\n",
       "      <th>Compras mensuales cuotas</th>\n",
       "      <th>Pagos crédito</th>\n",
       "      <th>Ahorro</th>\n",
       "      <th>Frecuencia de compras un pago</th>\n",
       "      <th>Frecuencia de compras cuotas</th>\n",
       "    </tr>\n",
       "  </thead>\n",
       "  <tbody>\n",
       "    <tr>\n",
       "      <th>0</th>\n",
       "      <td>1</td>\n",
       "      <td>Dena</td>\n",
       "      <td>Bruins</td>\n",
       "      <td>dbruins0@instagram.com</td>\n",
       "      <td>10962.03</td>\n",
       "      <td>2165.91</td>\n",
       "      <td>1576.02</td>\n",
       "      <td>2549.02</td>\n",
       "      <td>1738.78</td>\n",
       "      <td>0.1416</td>\n",
       "      <td>0.4345</td>\n",
       "    </tr>\n",
       "    <tr>\n",
       "      <th>1</th>\n",
       "      <td>2</td>\n",
       "      <td>Gisele</td>\n",
       "      <td>Fliege</td>\n",
       "      <td>gfliege1@xing.com</td>\n",
       "      <td>996.87</td>\n",
       "      <td>132.90</td>\n",
       "      <td>2755.58</td>\n",
       "      <td>242.53</td>\n",
       "      <td>1424.95</td>\n",
       "      <td>0.6752</td>\n",
       "      <td>0.9371</td>\n",
       "    </tr>\n",
       "    <tr>\n",
       "      <th>2</th>\n",
       "      <td>3</td>\n",
       "      <td>Emili</td>\n",
       "      <td>Brimmicombe</td>\n",
       "      <td>ebrimmicombe2@tmall.com</td>\n",
       "      <td>2339.14</td>\n",
       "      <td>1914.43</td>\n",
       "      <td>763.30</td>\n",
       "      <td>2097.06</td>\n",
       "      <td>1272.98</td>\n",
       "      <td>0.2938</td>\n",
       "      <td>0.5352</td>\n",
       "    </tr>\n",
       "    <tr>\n",
       "      <th>3</th>\n",
       "      <td>4</td>\n",
       "      <td>Bryanty</td>\n",
       "      <td>Oman</td>\n",
       "      <td>boman3@wired.com</td>\n",
       "      <td>8356.70</td>\n",
       "      <td>4579.06</td>\n",
       "      <td>2697.44</td>\n",
       "      <td>434.86</td>\n",
       "      <td>687.89</td>\n",
       "      <td>0.3827</td>\n",
       "      <td>0.5770</td>\n",
       "    </tr>\n",
       "    <tr>\n",
       "      <th>4</th>\n",
       "      <td>5</td>\n",
       "      <td>Diane</td>\n",
       "      <td>Adamovitz</td>\n",
       "      <td>dadamovitz4@digg.com</td>\n",
       "      <td>6676.88</td>\n",
       "      <td>3301.44</td>\n",
       "      <td>2924.04</td>\n",
       "      <td>596.96</td>\n",
       "      <td>1306.75</td>\n",
       "      <td>0.0512</td>\n",
       "      <td>0.2847</td>\n",
       "    </tr>\n",
       "    <tr>\n",
       "      <th>...</th>\n",
       "      <td>...</td>\n",
       "      <td>...</td>\n",
       "      <td>...</td>\n",
       "      <td>...</td>\n",
       "      <td>...</td>\n",
       "      <td>...</td>\n",
       "      <td>...</td>\n",
       "      <td>...</td>\n",
       "      <td>...</td>\n",
       "      <td>...</td>\n",
       "      <td>...</td>\n",
       "    </tr>\n",
       "    <tr>\n",
       "      <th>995</th>\n",
       "      <td>996</td>\n",
       "      <td>Adore</td>\n",
       "      <td>Kearle</td>\n",
       "      <td>akearlern@mayoclinic.com</td>\n",
       "      <td>6916.30</td>\n",
       "      <td>739.44</td>\n",
       "      <td>2132.93</td>\n",
       "      <td>2400.08</td>\n",
       "      <td>1990.31</td>\n",
       "      <td>0.3912</td>\n",
       "      <td>0.0311</td>\n",
       "    </tr>\n",
       "    <tr>\n",
       "      <th>996</th>\n",
       "      <td>997</td>\n",
       "      <td>Sibella</td>\n",
       "      <td>Lendrem</td>\n",
       "      <td>slendremro@soundcloud.com</td>\n",
       "      <td>11300.85</td>\n",
       "      <td>NaN</td>\n",
       "      <td>2866.75</td>\n",
       "      <td>2949.20</td>\n",
       "      <td>NaN</td>\n",
       "      <td>0.0848</td>\n",
       "      <td>0.6572</td>\n",
       "    </tr>\n",
       "    <tr>\n",
       "      <th>997</th>\n",
       "      <td>998</td>\n",
       "      <td>Morna</td>\n",
       "      <td>Arrault</td>\n",
       "      <td>marraultrp@netscape.com</td>\n",
       "      <td>2089.96</td>\n",
       "      <td>2059.00</td>\n",
       "      <td>1177.63</td>\n",
       "      <td>1638.11</td>\n",
       "      <td>342.47</td>\n",
       "      <td>0.3671</td>\n",
       "      <td>0.8045</td>\n",
       "    </tr>\n",
       "    <tr>\n",
       "      <th>998</th>\n",
       "      <td>999</td>\n",
       "      <td>Clyve</td>\n",
       "      <td>Pilling</td>\n",
       "      <td>cpillingrq@marriott.com</td>\n",
       "      <td>10311.18</td>\n",
       "      <td>3449.11</td>\n",
       "      <td>3617.03</td>\n",
       "      <td>2202.28</td>\n",
       "      <td>3.93</td>\n",
       "      <td>0.2113</td>\n",
       "      <td>0.5737</td>\n",
       "    </tr>\n",
       "    <tr>\n",
       "      <th>999</th>\n",
       "      <td>1000</td>\n",
       "      <td>Luigi</td>\n",
       "      <td>Burras</td>\n",
       "      <td>lburrasrr@yale.edu</td>\n",
       "      <td>97.19</td>\n",
       "      <td>3721.41</td>\n",
       "      <td>6.88</td>\n",
       "      <td>402.34</td>\n",
       "      <td>1479.22</td>\n",
       "      <td>0.2097</td>\n",
       "      <td>0.9491</td>\n",
       "    </tr>\n",
       "  </tbody>\n",
       "</table>\n",
       "<p>1000 rows × 11 columns</p>\n",
       "</div>"
      ],
      "text/plain": [
       "       ID   Nombre     Apellido                       Mail   Ingreso  \\\n",
       "0       1     Dena       Bruins     dbruins0@instagram.com  10962.03   \n",
       "1       2   Gisele       Fliege          gfliege1@xing.com    996.87   \n",
       "2       3    Emili  Brimmicombe    ebrimmicombe2@tmall.com   2339.14   \n",
       "3       4  Bryanty         Oman           boman3@wired.com   8356.70   \n",
       "4       5    Diane    Adamovitz       dadamovitz4@digg.com   6676.88   \n",
       "..    ...      ...          ...                        ...       ...   \n",
       "995   996    Adore       Kearle   akearlern@mayoclinic.com   6916.30   \n",
       "996   997  Sibella      Lendrem  slendremro@soundcloud.com  11300.85   \n",
       "997   998    Morna      Arrault    marraultrp@netscape.com   2089.96   \n",
       "998   999    Clyve      Pilling    cpillingrq@marriott.com  10311.18   \n",
       "999  1000    Luigi       Burras         lburrasrr@yale.edu     97.19   \n",
       "\n",
       "     Compras mensuales un pago  Compras mensuales cuotas  Pagos crédito  \\\n",
       "0                      2165.91                   1576.02        2549.02   \n",
       "1                       132.90                   2755.58         242.53   \n",
       "2                      1914.43                    763.30        2097.06   \n",
       "3                      4579.06                   2697.44         434.86   \n",
       "4                      3301.44                   2924.04         596.96   \n",
       "..                         ...                       ...            ...   \n",
       "995                     739.44                   2132.93        2400.08   \n",
       "996                        NaN                   2866.75        2949.20   \n",
       "997                    2059.00                   1177.63        1638.11   \n",
       "998                    3449.11                   3617.03        2202.28   \n",
       "999                    3721.41                      6.88         402.34   \n",
       "\n",
       "      Ahorro  Frecuencia de compras un pago  Frecuencia de compras cuotas  \n",
       "0    1738.78                         0.1416                        0.4345  \n",
       "1    1424.95                         0.6752                        0.9371  \n",
       "2    1272.98                         0.2938                        0.5352  \n",
       "3     687.89                         0.3827                        0.5770  \n",
       "4    1306.75                         0.0512                        0.2847  \n",
       "..       ...                            ...                           ...  \n",
       "995  1990.31                         0.3912                        0.0311  \n",
       "996      NaN                         0.0848                        0.6572  \n",
       "997   342.47                         0.3671                        0.8045  \n",
       "998     3.93                         0.2113                        0.5737  \n",
       "999  1479.22                         0.2097                        0.9491  \n",
       "\n",
       "[1000 rows x 11 columns]"
      ]
     },
     "execution_count": 85,
     "metadata": {},
     "output_type": "execute_result"
    }
   ],
   "source": [
    "datos = pd.read_csv(\"data.csv\")\n",
    "datos"
   ]
  },
  {
   "cell_type": "code",
   "execution_count": 67,
   "metadata": {},
   "outputs": [
    {
     "data": {
      "text/plain": [
       "<AxesSubplot:xlabel='Ingreso', ylabel='Count'>"
      ]
     },
     "execution_count": 67,
     "metadata": {},
     "output_type": "execute_result"
    },
    {
     "data": {
      "image/png": "[encoded data removed]",
      "text/plain": [
       "<Figure size 432x288 with 1 Axes>"
      ]
     },
     "metadata": {
      "needs_background": "light"
     },
     "output_type": "display_data"
    }
   ],
   "source": [
    "sns.histplot(data = datos, x = \"Ingreso\", binwidth = 300, kde = True ) # binwidth + grande = menos barras (tarda menos en hacer grafico)"
   ]
  },
  {
   "cell_type": "code",
   "execution_count": 68,
   "metadata": {},
   "outputs": [
    {
     "data": {
      "text/plain": [
       "' hacer pairplot en el parcial si o si para ver grafico de distribucion de todas las columnas '"
      ]
     },
     "execution_count": 68,
     "metadata": {},
     "output_type": "execute_result"
    }
   ],
   "source": [
    "\"\"\" hacer pairplot en el parcial si o si para ver grafico de distribucion de todas las columnas \"\"\""
   ]
  },
  {
   "cell_type": "code",
   "execution_count": 69,
   "metadata": {},
   "outputs": [
    {
     "data": {
      "text/plain": [
       "['ID',\n",
       " 'Nombre',\n",
       " 'Apellido',\n",
       " 'Mail',\n",
       " 'Ingreso',\n",
       " 'Compras mensuales un pago',\n",
       " 'Compras mensuales cuotas',\n",
       " 'Pagos crédito',\n",
       " 'Ahorro',\n",
       " 'Frecuencia de compras un pago',\n",
       " 'Frecuencia de compras cuotas']"
      ]
     },
     "execution_count": 69,
     "metadata": {},
     "output_type": "execute_result"
    }
   ],
   "source": [
    "list(datos.columns)"
   ]
  },
  {
   "cell_type": "code",
   "execution_count": 70,
   "metadata": {},
   "outputs": [
    {
     "name": "stdout",
     "output_type": "stream",
     "text": [
      "<class 'pandas.core.frame.DataFrame'>\n",
      "RangeIndex: 1000 entries, 0 to 999\n",
      "Data columns (total 11 columns):\n",
      " #   Column                         Non-Null Count  Dtype  \n",
      "---  ------                         --------------  -----  \n",
      " 0   ID                             1000 non-null   int64  \n",
      " 1   Nombre                         1000 non-null   object \n",
      " 2   Apellido                       1000 non-null   object \n",
      " 3   Mail                           1000 non-null   object \n",
      " 4   Ingreso                        968 non-null    float64\n",
      " 5   Compras mensuales un pago      948 non-null    float64\n",
      " 6   Compras mensuales cuotas       921 non-null    float64\n",
      " 7   Pagos crédito                  943 non-null    float64\n",
      " 8   Ahorro                         948 non-null    float64\n",
      " 9   Frecuencia de compras un pago  941 non-null    float64\n",
      " 10  Frecuencia de compras cuotas   943 non-null    float64\n",
      "dtypes: float64(7), int64(1), object(3)\n",
      "memory usage: 86.1+ KB\n"
     ]
    }
   ],
   "source": [
    "datos.info()"
   ]
  },
  {
   "cell_type": "code",
   "execution_count": 71,
   "metadata": {},
   "outputs": [
    {
     "data": {
      "text/html": [
       "<div>\n",
       "<style scoped>\n",
       "    .dataframe tbody tr th:only-of-type {\n",
       "        vertical-align: middle;\n",
       "    }\n",
       "\n",
       "    .dataframe tbody tr th {\n",
       "        vertical-align: top;\n",
       "    }\n",
       "\n",
       "    .dataframe thead th {\n",
       "        text-align: right;\n",
       "    }\n",
       "</style>\n",
       "<table border=\"1\" class=\"dataframe\">\n",
       "  <thead>\n",
       "    <tr style=\"text-align: right;\">\n",
       "      <th></th>\n",
       "      <th>ID</th>\n",
       "      <th>Ingreso</th>\n",
       "      <th>Compras mensuales un pago</th>\n",
       "      <th>Compras mensuales cuotas</th>\n",
       "      <th>Pagos crédito</th>\n",
       "      <th>Ahorro</th>\n",
       "      <th>Frecuencia de compras un pago</th>\n",
       "      <th>Frecuencia de compras cuotas</th>\n",
       "    </tr>\n",
       "  </thead>\n",
       "  <tbody>\n",
       "    <tr>\n",
       "      <th>count</th>\n",
       "      <td>1000.000000</td>\n",
       "      <td>968.000000</td>\n",
       "      <td>948.000000</td>\n",
       "      <td>921.000000</td>\n",
       "      <td>943.000000</td>\n",
       "      <td>948.000000</td>\n",
       "      <td>941.000000</td>\n",
       "      <td>943.000000</td>\n",
       "    </tr>\n",
       "    <tr>\n",
       "      <th>mean</th>\n",
       "      <td>500.500000</td>\n",
       "      <td>5785.631942</td>\n",
       "      <td>2451.846814</td>\n",
       "      <td>1944.068100</td>\n",
       "      <td>1480.925249</td>\n",
       "      <td>997.056951</td>\n",
       "      <td>0.482726</td>\n",
       "      <td>0.490983</td>\n",
       "    </tr>\n",
       "    <tr>\n",
       "      <th>std</th>\n",
       "      <td>288.819436</td>\n",
       "      <td>3496.756511</td>\n",
       "      <td>1433.223014</td>\n",
       "      <td>1141.592949</td>\n",
       "      <td>853.214458</td>\n",
       "      <td>573.771676</td>\n",
       "      <td>0.291558</td>\n",
       "      <td>0.290396</td>\n",
       "    </tr>\n",
       "    <tr>\n",
       "      <th>min</th>\n",
       "      <td>1.000000</td>\n",
       "      <td>16.150000</td>\n",
       "      <td>1.340000</td>\n",
       "      <td>3.120000</td>\n",
       "      <td>2.880000</td>\n",
       "      <td>3.000000</td>\n",
       "      <td>0.000100</td>\n",
       "      <td>0.000100</td>\n",
       "    </tr>\n",
       "    <tr>\n",
       "      <th>25%</th>\n",
       "      <td>250.750000</td>\n",
       "      <td>2717.545000</td>\n",
       "      <td>1229.677500</td>\n",
       "      <td>969.480000</td>\n",
       "      <td>772.330000</td>\n",
       "      <td>495.585000</td>\n",
       "      <td>0.228100</td>\n",
       "      <td>0.232300</td>\n",
       "    </tr>\n",
       "    <tr>\n",
       "      <th>50%</th>\n",
       "      <td>500.500000</td>\n",
       "      <td>5571.940000</td>\n",
       "      <td>2502.785000</td>\n",
       "      <td>1864.080000</td>\n",
       "      <td>1490.160000</td>\n",
       "      <td>1000.285000</td>\n",
       "      <td>0.471600</td>\n",
       "      <td>0.500300</td>\n",
       "    </tr>\n",
       "    <tr>\n",
       "      <th>75%</th>\n",
       "      <td>750.250000</td>\n",
       "      <td>8839.272500</td>\n",
       "      <td>3665.605000</td>\n",
       "      <td>2839.340000</td>\n",
       "      <td>2187.705000</td>\n",
       "      <td>1473.930000</td>\n",
       "      <td>0.741500</td>\n",
       "      <td>0.738800</td>\n",
       "    </tr>\n",
       "    <tr>\n",
       "      <th>max</th>\n",
       "      <td>1000.000000</td>\n",
       "      <td>11999.600000</td>\n",
       "      <td>4993.010000</td>\n",
       "      <td>3994.230000</td>\n",
       "      <td>2999.320000</td>\n",
       "      <td>1999.420000</td>\n",
       "      <td>0.999600</td>\n",
       "      <td>0.998100</td>\n",
       "    </tr>\n",
       "  </tbody>\n",
       "</table>\n",
       "</div>"
      ],
      "text/plain": [
       "                ID       Ingreso  Compras mensuales un pago  \\\n",
       "count  1000.000000    968.000000                 948.000000   \n",
       "mean    500.500000   5785.631942                2451.846814   \n",
       "std     288.819436   3496.756511                1433.223014   \n",
       "min       1.000000     16.150000                   1.340000   \n",
       "25%     250.750000   2717.545000                1229.677500   \n",
       "50%     500.500000   5571.940000                2502.785000   \n",
       "75%     750.250000   8839.272500                3665.605000   \n",
       "max    1000.000000  11999.600000                4993.010000   \n",
       "\n",
       "       Compras mensuales cuotas  Pagos crédito       Ahorro  \\\n",
       "count                921.000000     943.000000   948.000000   \n",
       "mean                1944.068100    1480.925249   997.056951   \n",
       "std                 1141.592949     853.214458   573.771676   \n",
       "min                    3.120000       2.880000     3.000000   \n",
       "25%                  969.480000     772.330000   495.585000   \n",
       "50%                 1864.080000    1490.160000  1000.285000   \n",
       "75%                 2839.340000    2187.705000  1473.930000   \n",
       "max                 3994.230000    2999.320000  1999.420000   \n",
       "\n",
       "       Frecuencia de compras un pago  Frecuencia de compras cuotas  \n",
       "count                     941.000000                    943.000000  \n",
       "mean                        0.482726                      0.490983  \n",
       "std                         0.291558                      0.290396  \n",
       "min                         0.000100                      0.000100  \n",
       "25%                         0.228100                      0.232300  \n",
       "50%                         0.471600                      0.500300  \n",
       "75%                         0.741500                      0.738800  \n",
       "max                         0.999600                      0.998100  "
      ]
     },
     "execution_count": 71,
     "metadata": {},
     "output_type": "execute_result"
    }
   ],
   "source": [
    "datos.describe()"
   ]
  },
  {
   "cell_type": "code",
   "execution_count": 72,
   "metadata": {},
   "outputs": [],
   "source": [
    "w, p = stats.shapiro(datos[\"Ingreso\"])"
   ]
  },
  {
   "cell_type": "code",
   "execution_count": 73,
   "metadata": {},
   "outputs": [
    {
     "data": {
      "text/plain": [
       "1.0"
      ]
     },
     "execution_count": 73,
     "metadata": {},
     "output_type": "execute_result"
    }
   ],
   "source": [
    "p #cuando p mayor a 0,05 la distribucion es normal"
   ]
  },
  {
   "cell_type": "code",
   "execution_count": 74,
   "metadata": {},
   "outputs": [
    {
     "data": {
      "text/plain": [
       "['ID',\n",
       " 'Nombre',\n",
       " 'Apellido',\n",
       " 'Mail',\n",
       " 'Ingreso',\n",
       " 'Compras mensuales un pago',\n",
       " 'Compras mensuales cuotas',\n",
       " 'Pagos crédito',\n",
       " 'Ahorro',\n",
       " 'Frecuencia de compras un pago',\n",
       " 'Frecuencia de compras cuotas']"
      ]
     },
     "execution_count": 74,
     "metadata": {},
     "output_type": "execute_result"
    }
   ],
   "source": [
    "columnas = list(datos.columns) #lista de las columnas que tengo\n",
    "columnas"
   ]
  },
  {
   "cell_type": "code",
   "execution_count": 75,
   "metadata": {},
   "outputs": [],
   "source": [
    "\"\"\" quiero borrar las primeras 4 columnas porque son string (lo veo en info)\"\"\"\n",
    "del(columnas[:4])"
   ]
  },
  {
   "cell_type": "code",
   "execution_count": 76,
   "metadata": {},
   "outputs": [
    {
     "data": {
      "text/plain": [
       "['Ingreso',\n",
       " 'Compras mensuales un pago',\n",
       " 'Compras mensuales cuotas',\n",
       " 'Pagos crédito',\n",
       " 'Ahorro',\n",
       " 'Frecuencia de compras un pago',\n",
       " 'Frecuencia de compras cuotas']"
      ]
     },
     "execution_count": 76,
     "metadata": {},
     "output_type": "execute_result"
    }
   ],
   "source": [
    "columnas"
   ]
  },
  {
   "cell_type": "code",
   "execution_count": 77,
   "metadata": {},
   "outputs": [],
   "source": [
    "def verificacion_de_medias(lista):\n",
    "    test = {}\n",
    "    for columna in lista:\n",
    "        w, p = stats.shapiro(datos[columna].dropna())\n",
    "        test[columna] = p\n",
    "    return test"
   ]
  },
  {
   "cell_type": "code",
   "execution_count": 78,
   "metadata": {},
   "outputs": [
    {
     "data": {
      "text/plain": [
       "{'Ingreso': 1.1006121123495764e-17,\n",
       " 'Compras mensuales un pago': 1.9584066131987426e-16,\n",
       " 'Compras mensuales cuotas': 1.1219991119325963e-15,\n",
       " 'Pagos crédito': 1.6327737434123323e-15,\n",
       " 'Ahorro': 4.0385173025391473e-16,\n",
       " 'Frecuencia de compras un pago': 3.877314161007996e-17,\n",
       " 'Frecuencia de compras cuotas': 1.0270321469317185e-16}"
      ]
     },
     "execution_count": 78,
     "metadata": {},
     "output_type": "execute_result"
    }
   ],
   "source": [
    "verificacion_de_medias(columnas) #los numeros son muy chicos, esta muy lejos de ser normal. tiene que dar p > 0.05"
   ]
  },
  {
   "cell_type": "code",
   "execution_count": 79,
   "metadata": {},
   "outputs": [
    {
     "data": {
      "text/plain": [
       "' limpiar df de anomalias: datos nulos, outliers y duplicados '"
      ]
     },
     "execution_count": 79,
     "metadata": {},
     "output_type": "execute_result"
    }
   ],
   "source": [
    "\"\"\" limpiar df de anomalias: datos nulos, outliers y duplicados \"\"\""
   ]
  },
  {
   "cell_type": "code",
   "execution_count": 80,
   "metadata": {},
   "outputs": [
    {
     "data": {
      "text/plain": [
       "' limpio duplicados '"
      ]
     },
     "execution_count": 80,
     "metadata": {},
     "output_type": "execute_result"
    }
   ],
   "source": [
    "\"\"\" limpio duplicados \"\"\""
   ]
  },
  {
   "cell_type": "code",
   "execution_count": 81,
   "metadata": {},
   "outputs": [
    {
     "data": {
      "text/plain": [
       "1000"
      ]
     },
     "execution_count": 81,
     "metadata": {},
     "output_type": "execute_result"
    }
   ],
   "source": [
    "len(datos[\"Ingreso\"]) #antes de hacer drop_duplicates era 1004 y ahora es 1000, eso significa que habia duplicados"
   ]
  },
  {
   "cell_type": "code",
   "execution_count": 82,
   "metadata": {},
   "outputs": [],
   "source": [
    "datos = datos.drop_duplicates(inplace=True)"
   ]
  },
  {
   "cell_type": "code",
   "execution_count": 83,
   "metadata": {},
   "outputs": [
    {
     "data": {
      "text/plain": [
       "' elimino datos nulos'"
      ]
     },
     "execution_count": 83,
     "metadata": {},
     "output_type": "execute_result"
    }
   ],
   "source": [
    "\"\"\" elimino datos nulos\"\"\""
   ]
  },
  {
   "cell_type": "code",
   "execution_count": 86,
   "metadata": {},
   "outputs": [],
   "source": [
    "datos = datos.dropna()"
   ]
  },
  {
   "cell_type": "code",
   "execution_count": 87,
   "metadata": {},
   "outputs": [
    {
     "data": {
      "text/plain": [
       "11325.5125"
      ]
     },
     "execution_count": 87,
     "metadata": {},
     "output_type": "execute_result"
    }
   ],
   "source": [
    "datos[\"Ingreso\"].quantile(0.95)"
   ]
  },
  {
   "cell_type": "code",
   "execution_count": 90,
   "metadata": {},
   "outputs": [
    {
     "data": {
      "text/plain": [
       "590.78"
      ]
     },
     "execution_count": 90,
     "metadata": {},
     "output_type": "execute_result"
    }
   ],
   "source": [
    "datos[\"Ingreso\"].quantile(0.05)"
   ]
  },
  {
   "cell_type": "code",
   "execution_count": null,
   "metadata": {},
   "outputs": [],
   "source": [
    "datos.quantile(0.05).to_dict()"
   ]
  },
  {
   "cell_type": "code",
   "execution_count": null,
   "metadata": {},
   "outputs": [],
   "source": [
    "Cs = datos[\"Ingreso\"].quantile(0.95)\n",
    "Ci = datos[\"Ingreso\"].quantile(0.05)\n",
    "datos = datos[(datos[\"Ingreso\"] >= Ci) & (datos[\"Ingreso\"] <= Cs)]"
   ]
  },
  {
   "cell_type": "code",
   "execution_count": null,
   "metadata": {},
   "outputs": [],
   "source": [
    "\"\"\" Normalizo las columnas \"\"\"\n",
    "scaler = StandardScaler()\n",
    "datos_escaleado = scaler.fit_transform(datos[columnas])"
   ]
  },
  {
   "cell_type": "code",
   "execution_count": null,
   "metadata": {},
   "outputs": [],
   "source": [
    "\"\"\" \n",
    "pasos: \n",
    "1) elegir las columnas\n",
    "2) ver el grafico (pairplot) de como quedan agrupados los puntos\n",
    "3) hacer grafico del codo\n",
    "4) decidir el numero de grupos\n",
    "5) hacer el kmeans, hacer el clustering con esos grupos\n",
    "6) hacer el grafico del silhoutte para saber si realmente estan bien distribuidos los puntos\n",
    "\n",
    "\"\"\""
   ]
  }
 ],
 "metadata": {
  "kernelspec": {
   "display_name": "Python 3.9.13 64-bit (windows store)",
   "language": "python",
   "name": "python3"
  },
  "language_info": {
   "codemirror_mode": {
    "name": "ipython",
    "version": 3
   },
   "file_extension": ".py",
   "mimetype": "text/x-python",
   "name": "python",
   "nbconvert_exporter": "python",
   "pygments_lexer": "ipython3",
   "version": "3.9.13"
  },
  "orig_nbformat": 4,
  "vscode": {
   "interpreter": {
    "hash": "5973d59fe17ffe5feac7a303c763d6aaa7b54ecaf154a641b14242fc09ca8ccf"
   }
  }
 },
 "nbformat": 4,
 "nbformat_minor": 2
}
