{
 "cells": [
  {
   "cell_type": "code",
   "execution_count": 17,
   "metadata": {},
   "outputs": [],
   "source": [
    "import requests\n",
    "r = requests.get(\"https://ponyweb.ml/v1/character/all\")"
   ]
  },
  {
   "cell_type": "code",
   "execution_count": null,
   "metadata": {},
   "outputs": [],
   "source": [
    "print(r.json())"
   ]
  },
  {
   "cell_type": "code",
   "execution_count": 15,
   "metadata": {},
   "outputs": [
    {
     "name": "stdout",
     "output_type": "stream",
     "text": [
      "{'id': 1, 'name': 'Twilight Sparkle', 'alias': 'Princess Twilight Sparkle', 'url': 'https://mlp.fandom.com/wiki/Twilight_Sparkle', 'sex': 'Female', 'residence': 'Canterlot (S1E1, S9E26)\\nCastle of Friendship, Ponyville (seasons 5-9)\\nGolden Oak Library, Ponyville (seasons 1-4)\\nCrystal Princess Palace (toy line)', 'occupation': \"Ruler of Equestria (S9E26)\\nFounder/leader of the Council of Friendship (S9E26)\\nRuler of the Castle of Friendship (S4E26-S9E26)\\nFounder/principal of the School of Friendship (S8E1-S9E20)\\nStarlight Glimmer's teacher (S5E26-S7E1)\\nGolden Oak Library librarian (seasons 1-4)\\nPrincess Celestia's student (seasons 1-3)\\nStudent at Celestia's School for Gifted Unicorns (formerly)\", 'kind': ['Alicorn', 'Unicorn', 'Human'], 'image': ['https://vignette.wikia.nocookie.net/mlp/images/b/bc/Princess_Twilight_Sparkle_ID_S4E26.png/revision/latest?cb=20160207045127', 'https://vignette.wikia.nocookie.net/mlp/images/6/6c/Twilight_S2E25_cropped.png/revision/latest?cb=20160315121005', 'https://vignette.wikia.nocookie.net/mlp/images/9/97/Twilight_filly_crop_S2E25.png/revision/latest?cb=20140108015837', 'https://vignette.wikia.nocookie.net/mlp/images/1/18/Twilight_Sparkle_infant_ID_MLPS2.png/revision/latest?cb=20190823095629', 'https://vignette.wikia.nocookie.net/mlp/images/e/ef/Future_Twilight_Sparkle_ID_S9E26.png/revision/latest?cb=20191013013633', 'https://vignette.wikia.nocookie.net/mlp/images/0/0c/Twilight_Sparkle_human_at_lockers_EG.png/revision/latest?cb=20141211040145']}\n"
     ]
    }
   ],
   "source": [
    "print(r.json()[\"data\"][0])"
   ]
  },
  {
   "cell_type": "code",
   "execution_count": 11,
   "metadata": {},
   "outputs": [
    {
     "name": "stdout",
     "output_type": "stream",
     "text": [
      "{'id': 50, 'name': 'Silverstream', 'alias': 'Silver Stream', 'url': 'https://mlp.fandom.com/wiki/Silverstream', 'sex': 'Female', 'residence': 'School of Friendship, Ponyville (as of S8E2)\\nSeaquestria (formerly)', 'occupation': 'Student at the School of Friendship (seasons 8-9)', 'kind': ['Hippogriff', 'Seapony'], 'image': ['https://vignette.wikia.nocookie.net/mlp/images/4/45/Silverstream_ID_S8E1.png/revision/latest?cb=20180329021441', 'https://vignette.wikia.nocookie.net/mlp/images/e/e3/Silverstream_seapony_ID_S8E2.png/revision/latest?cb=20180329021515', 'https://vignette.wikia.nocookie.net/mlp/images/6/67/Future_Silverstream_ID_S9E26.png/revision/latest?cb=20191013044024']}\n"
     ]
    }
   ],
   "source": [
    "print(r.json()[\"data\"][-1])"
   ]
  },
  {
   "cell_type": "code",
   "execution_count": 14,
   "metadata": {},
   "outputs": [
    {
     "name": "stdout",
     "output_type": "stream",
     "text": [
      "50\n"
     ]
    }
   ],
   "source": [
    "print(len(r.json()[\"data\"]))"
   ]
  },
  {
   "cell_type": "code",
   "execution_count": 5,
   "metadata": {},
   "outputs": [
    {
     "data": {
      "text/plain": [
       "' para que sea realmente rest yo hubiera esperado que la url sea: https://ponyweb/ponies/44 .\\n Esto seria lo ideal pero existe getne que programa mal y no respeta el rest'"
      ]
     },
     "execution_count": 5,
     "metadata": {},
     "output_type": "execute_result"
    }
   ],
   "source": [
    "\"\"\" para que sea realmente rest yo hubiera esperado que la url sea: https://ponyweb/all/44  o  https://ponyweb/all?id=44\n",
    " Esto seria lo ideal pero existe getne que programa mal y no respeta el rest\"\"\" \n",
    " \"https://ponyweb.ml/v1/character/all\""
   ]
  },
  {
   "cell_type": "code",
   "execution_count": 21,
   "metadata": {},
   "outputs": [
    {
     "name": "stdout",
     "output_type": "stream",
     "text": [
      "{'status': 200, 'data': [{'id': 1, 'name': 'Laughter Song', 'video': 'https://youtube.com/watch?v=xK-UWPb7MY4', 'length': '00:01:08', 'url': 'https://mlp.fandom.com/wiki/Laughter_Song', 'episode': 'Friendship is Magic, part 2', 'musicby': 'Daniel Ingram', 'lyricsby': 'Lauren Faust', 'keysignature': 'D major'}, {'id': 2, 'name': \"Pinkie's Gala Fantasy Song\", 'video': 'https://youtube.com/watch?v=Jjm4zw6X12s', 'length': '00:00:39', 'url': 'https://mlp.fandom.com/wiki/Pinkie%27s_Gala_Fantasy_Song', 'episode': 'The Ticket Master', 'musicby': 'Daniel Ingram\\nSteffan Andrews (orchestration)', 'lyricsby': 'Lauren Faust\\nAmy Keating Rogers', 'keysignature': 'G major'}, {'id': 3, 'name': 'The Ticket Song', 'video': 'https://youtube.com/watch?v=JTebDuVt9M8', 'length': '00:00:16', 'url': 'https://mlp.fandom.com/wiki/The_Ticket_Song', 'episode': 'The Ticket Master', 'musicby': 'Daniel Ingram', 'lyricsby': 'Lauren Faust', 'keysignature': 'E-flat major'}, {'id': 4, 'name': 'Hop Skip and Jump song', 'video': 'https://youtube.com/watch?v=AdaciUmFB0M', 'length': '00:00:20', 'url': 'https://mlp.fandom.com/wiki/Hop_Skip_and_Jump_song', 'episode': 'Dragonshy', 'musicby': 'William Anderson', 'lyricsby': 'Meghan McCarthy', 'keysignature': 'C major'}, {'id': 5, 'name': 'Hop Skip Jump Song (original)', 'video': 'https://youtube.com/watch?v=OegGWVdrXxk', 'length': '00:00:27', 'url': 'https://mlp.fandom.com/wiki/Hop_Skip_and_Jump_song', 'episode': 'Dragonshy', 'musicby': 'Daniel Ingram', 'lyricsby': 'Meghan McCarthy', 'keysignature': 'C major'}, {'id': 6, 'name': \"Evil Enchantress (Pinkie Pie's rendition)\", 'video': 'https://youtube.com/watch?v=_jrj15xy-Ag', 'length': '00:00:11', 'url': 'https://mlp.fandom.com/wiki/Evil_Enchantress_song', 'episode': 'Bridle Gossip', 'musicby': 'William Anderson\\nKristopher Gee (after vocals were recorded)', 'lyricsby': 'Amy Keating Rogers', 'keysignature': 'F minor'}, {'id': 7, 'name': \"Evil Enchantress (Fluttershy's rendition)\", 'video': 'https://youtube.com/watch?v=WaFt6D6fQpQ', 'length': '00:00:19', 'url': 'https://mlp.fandom.com/wiki/Evil_Enchantress_song', 'episode': 'Bridle Gossip', 'musicby': 'William Anderson\\nKristopher Gee (after vocals were recorded)', 'lyricsby': 'Amy Keating Rogers', 'keysignature': 'E minor'}, {'id': 8, 'name': 'Winter Wrap Up', 'video': 'https://youtube.com/watch?v=uHcKCOrECs8', 'length': '00:03:18', 'url': 'https://mlp.fandom.com/wiki/Winter_Wrap_Up_(song)', 'episode': 'Winter Wrap Up', 'musicby': 'Daniel Ingram\\nSteffan Andrews (orchestration)', 'lyricsby': 'Cindy Morrow', 'keysignature': 'D-flat major'}, {'id': 9, 'name': 'Cupcake Song', 'video': 'https://youtube.com/watch?v=deSYdHYtzQ4', 'length': '00:00:22', 'url': 'https://mlp.fandom.com/wiki/Cupcake_Song', 'episode': 'Call of the Cutie', 'musicby': 'Daniel Ingram', 'lyricsby': 'Meghan McCarthy', 'keysignature': 'D major'}, {'id': 10, 'name': 'Art of the Dress', 'video': 'https://youtube.com/watch?v=_W12OCqMOoU', 'length': '00:01:43', 'url': 'https://mlp.fandom.com/wiki/Art_of_the_Dress', 'episode': 'Suited For Success', 'musicby': 'Daniel Ingram', 'lyricsby': 'Charlotte Fullerton', 'keysignature': 'E-flat major'}, {'id': 11, 'name': 'Art of the Dress (Reprise)', 'video': 'https://youtube.com/watch?v=9Fv2jJw1lZs', 'length': '00:02:30', 'url': 'https://mlp.fandom.com/wiki/Art_of_the_Dress', 'episode': 'Suited For Success', 'musicby': 'Daniel Ingram', 'lyricsby': 'Charlotte Fullerton', 'keysignature': 'E-flat major'}, {'id': 12, 'name': 'Hush Now Lullaby (Fluttershy)', 'video': 'https://youtube.com/watch?v=ks2jVbZiM4Y', 'length': '00:00:12', 'url': 'https://mlp.fandom.com/wiki/Hush_Now_Lullaby', 'episode': 'Stare Master', 'musicby': 'Daniel Ingram (melody)\\nWilliam Anderson (backing)', 'lyricsby': 'Chris Savino', 'keysignature': 'A-flat major'}, {'id': 13, 'name': 'Hush Now Lullaby (Sweetie Belle)', 'video': 'https://youtube.com/watch?v=hTD6dgM0VvY', 'length': '00:00:30', 'url': 'https://mlp.fandom.com/wiki/Hush_Now_Lullaby', 'episode': 'Stare Master', 'musicby': 'Daniel Ingram\\nSteffan Andrews (orchestration)', 'lyricsby': 'Chris Savino', 'keysignature': 'A-flat major\\nA major'}, {'id': 14, 'name': 'Cutie Mark Crusaders Song', 'video': 'https://youtube.com/watch?v=uerFwX9ZTCE', 'length': '00:02:19', 'url': 'https://mlp.fandom.com/wiki/Cutie_Mark_Crusaders_Song', 'episode': 'The Show Stoppers', 'musicby': 'Daniel Ingram', 'lyricsby': 'Cindy Morrow', 'keysignature': 'B-flat minor'}, {'id': 15, 'name': 'You Got to Share, You Got to Care', 'video': 'https://youtube.com/watch?v=DL0-ITI5tvc', 'length': '00:01:11', 'url': 'https://mlp.fandom.com/wiki/You_Got_to_Share,_You_Got_to_Care', 'episode': 'Over a Barrel', 'musicby': 'Anonymous (melody)\\nDaniel Ingram (arrangement)\\nSteffan Andrews (piano)', 'lyricsby': 'Dave Polsky', 'keysignature': 'D major'}, {'id': 16, 'name': 'So Many Wonders', 'video': 'https://youtube.com/watch?v=_lfFizTXg1I', 'length': '00:00:47', 'url': 'https://mlp.fandom.com/wiki/So_Many_Wonders', 'episode': 'The Cutie Mark Chronicles', 'musicby': 'Daniel Ingram\\nSteffan Andrews (orchestration)', 'lyricsby': 'M. A. Larson', 'keysignature': 'C major\\nB-flat major'}, {'id': 17, 'name': \"Pinkie Pie's Singing Telegram\", 'video': 'https://youtube.com/watch?v=UrZmFiKgb7I', 'length': '00:00:39', 'url': 'https://mlp.fandom.com/wiki/Pinkie_Pie%27s_Singing_Telegram', 'episode': 'Party of One', 'musicby': 'Daniel Ingram', 'lyricsby': 'Meghan McCarthy', 'keysignature': 'C major'}, {'id': 18, 'name': 'At the Gala', 'video': 'https://youtube.com/watch?v=GG-yHIp88_8', 'length': '00:03:18', 'url': 'https://mlp.fandom.com/wiki/At_the_Gala', 'episode': 'The Best Night Ever', 'musicby': 'Daniel Ingram\\nSteffan Andrews and David Corman (orchestration)', 'lyricsby': 'Amy Keating Rogers', 'keysignature': 'B major\\nC major\\nD-flat major'}, {'id': 19, 'name': \"I'm at the Grand Galloping Gala\", 'video': 'https://youtube.com/watch?v=ELBKFV4IPuc', 'length': '00:00:25', 'url': 'https://mlp.fandom.com/wiki/I%27m_at_the_Grand_Galloping_Gala', 'episode': 'The Best Night Ever', 'musicby': 'Traditional\\nWilliam Anderson', 'lyricsby': 'Amy Keating Rogers', 'keysignature': 'C major'}, {'id': 20, 'name': 'Pony Pokey', 'video': 'https://youtube.com/watch?v=kbohUVBpk2c', 'length': '00:01:24', 'url': 'https://mlp.fandom.com/wiki/Pony_Pokey', 'episode': 'The Best Night Ever', 'musicby': 'Daniel Ingram (melody)\\nWilliam Anderson (arrangement)', 'lyricsby': 'Amy Keating Rogers', 'keysignature': 'D-flat major\\nD major\\nE-flat major\\nE major\\nF major'}, {'id': 21, 'name': 'Find A Pet Song', 'video': 'https://youtube.com/watch?v=eutPvpczpLY', 'length': '00:03:40', 'url': 'https://mlp.fandom.com/wiki/Find_A_Pet_Song', 'episode': 'May the Best Pet Win!', 'musicby': 'Daniel Ingram\\nSteffan Andrews (orchestration)', 'lyricsby': 'Charlotte Fullerton\\nKevin Rubio', 'keysignature': 'D-flat major\\nB major'}, {'id': 22, 'name': 'Becoming Popular (The Pony Everypony Should Know)', 'video': 'https://youtube.com/watch?v=aCm1VntSii8', 'length': '00:01:48', 'url': 'https://mlp.fandom.com/wiki/Becoming_Popular_(The_Pony_Everypony_Should_Know)', 'episode': 'Sweet and Elite', 'musicby': 'Daniel Ingram\\nSteffan Andrews (orchestration)', 'lyricsby': 'Meghan McCarthy\\nDaniel Ingram', 'keysignature': 'E-flat major'}, {'id': 23, 'name': 'The Heart Carol', 'video': 'https://youtube.com/watch?v=Vlub94tn6bQ', 'length': '00:00:38', 'url': 'https://mlp.fandom.com/wiki/The_Heart_Carol', 'episode': \"Hearth's Warming Eve\", 'musicby': 'Daniel Ingram\\nRon Passaro (orchestration)\\nPaul Shatto (mixing)', 'lyricsby': 'Merriwether Williams', 'keysignature': 'D major'}, {'id': 24, 'name': 'Happy Monthiversary', 'video': 'https://youtube.com/watch?v=li0x0vaX1Cg', 'length': '00:00:13', 'url': 'https://mlp.fandom.com/wiki/Happy_Monthiversary', 'episode': 'Baby Cakes', 'musicby': 'Daniel Ingram', 'lyricsby': 'Charlotte Fullerton', 'keysignature': 'G-sharp major'}, {'id': 25, 'name': 'Piggy Dance', 'video': 'https://youtube.com/watch?v=1kSqHC2H2zw', 'length': '00:00:27', 'url': 'https://mlp.fandom.com/wiki/Piggy_Dance', 'episode': 'Baby Cakes', 'musicby': 'Daniel Ingram', 'lyricsby': 'Amy Keating Rogers', 'keysignature': 'F-sharp major'}, {'id': 26, 'name': 'The Flim Flam Brothers', 'video': 'https://youtube.com/watch?v=_f7OWX-jRVk', 'length': '00:03:50', 'url': 'https://mlp.fandom.com/wiki/The_Flim_Flam_Brothers_(song)', 'episode': 'The Super Speedy Cider Squeezy 6000', 'musicby': 'Daniel Ingram\\nSteffan Andrews (orchestration)', 'lyricsby': 'Daniel Ingram\\nM. A. Larson', 'keysignature': 'F major\\nFrequent transitions in second half starting from: A major, B, D-flat, E-flat, F, G, D, E\\nEnds in F-sharp major'}, {'id': 27, 'name': 'The Perfect Stallion', 'video': 'https://youtube.com/watch?v=q-XM39lAres', 'length': '00:01:34', 'url': 'https://mlp.fandom.com/wiki/The_Perfect_Stallion', 'episode': 'Hearts and Hooves Day', 'musicby': 'Daniel Ingram', 'lyricsby': 'Meghan McCarthy', 'keysignature': 'F major'}, {'id': 28, 'name': 'Smile Song', 'video': 'https://youtube.com/watch?v=b1Vjorjlon4', 'length': '00:03:22', 'url': 'https://mlp.fandom.com/wiki/Smile_Song', 'episode': 'A Friend in Deed', 'musicby': 'Daniel Ingram\\nSteffan Andrews (orchestration)', 'lyricsby': 'Amy Keating Rogers', 'keysignature': 'E-flat major\\nE major'}, {'id': 29, 'name': 'Cranky Doodle Donkey', 'video': 'https://youtube.com/watch?v=XDsrZs0fgCo', 'length': '00:00:11', 'url': 'https://mlp.fandom.com/wiki/Cranky_Doodle_Donkey_(song)', 'episode': 'A Friend in Deed', 'musicby': 'Traditional\\nDaniel Ingram (arrangement)', 'lyricsby': 'Daniel Ingram\\nAmy Keating Rogers', 'keysignature': 'F-sharp major'}, {'id': 30, 'name': 'Welcome Song', 'video': 'https://youtube.com/watch?v=afAMwxGNY6Q', 'length': '00:00:22', 'url': 'https://mlp.fandom.com/wiki/Welcome_Song', 'episode': 'A Friend in Deed', 'musicby': 'Daniel Ingram', 'lyricsby': 'Amy Keating Rogers', 'keysignature': 'E-flat major'}, {'id': 31, 'name': 'Cranky Doodle Joy', 'video': 'https://youtube.com/watch?v=VTqMj9x-kBQ', 'length': '00:00:35', 'url': 'https://mlp.fandom.com/wiki/Cranky_Doodle_Joy', 'episode': 'A Friend in Deed', 'musicby': 'Daniel Ingram\\nGeorge M. Cohan\\nTraditional', 'lyricsby': 'Amy Keating Rogers', 'keysignature': 'F-sharp major'}, {'id': 32, 'name': 'B.B.B.F.F.', 'video': 'https://youtube.com/watch?v=gM-V2bZgSD8', 'length': '00:01:35', 'url': 'https://mlp.fandom.com/wiki/B.B.B.F.F.', 'episode': 'A Canterlot Wedding - Part 1', 'musicby': 'Daniel Ingram\\nSteffan Andrews (orchestration)', 'lyricsby': 'Meghan McCarthy', 'keysignature': 'D-flat major'}, {'id': 33, 'name': 'B.B.B.F.F. (Reprise)', 'video': 'https://youtube.com/watch?v=07zp6EMIRdQ', 'length': '00:00:18', 'url': 'https://mlp.fandom.com/wiki/B.B.B.F.F.', 'episode': 'A Canterlot Wedding - Part 1', 'musicby': 'Daniel Ingram\\nSteffan Andrews (orchestration)', 'lyricsby': 'Meghan McCarthy', 'keysignature': 'D-flat major'}, {'id': 34, 'name': 'This Day Aria, Part 1 (Cadence Aria)', 'video': 'https://youtube.com/watch?v=QhlLst225Ls', 'length': '00:02:12', 'url': 'https://mlp.fandom.com/wiki/This_Day_Aria,_Part_1', 'episode': 'A Canterlot Wedding - Part 2', 'musicby': 'Daniel Ingram\\nSteffan Andrews (orchestration)', 'lyricsby': 'Daniel Ingram\\nMeghan McCarthy', 'keysignature': 'D-flat major\\nD-flat minor\\nB minor'}, {'id': 35, 'name': 'This Day Aria, Part 2', 'video': 'https://youtube.com/watch?v=RbK6IdDoixU', 'length': '00:00:24', 'url': 'https://mlp.fandom.com/wiki/This_Day_Aria,_Part_2', 'episode': 'A Canterlot Wedding - Part 2', 'musicby': 'Daniel Ingram\\nSteffan Andrews (orchestration)', 'lyricsby': 'Meghan McCarthy', 'keysignature': 'D-flat major\\nD-flat minor'}, {'id': 36, 'name': 'Love Is In Bloom', 'video': 'https://youtube.com/watch?v=IifFOEYM8Tw', 'length': '00:01:50', 'url': 'https://mlp.fandom.com/wiki/Love_Is_In_Bloom', 'episode': 'A Canterlot Wedding - Part 2', 'musicby': 'Daniel Ingram\\nDavey Badiuk\\nSam Ryan', 'lyricsby': 'Meghan McCarthy', 'keysignature': 'F-sharp major'}, {'id': 37, 'name': 'The Failure Song', 'video': 'https://youtube.com/watch?v=abuBT0_rMgs', 'length': '00:01:44', 'url': 'https://mlp.fandom.com/wiki/The_Failure_Song', 'episode': 'The Crystal Empire - Part 1', 'musicby': 'Daniel Ingram\\nSteffan Andrews (orchestration)', 'lyricsby': 'Meghan McCarthy', 'keysignature': 'G major\\nA major\\nD major'}, {'id': 38, 'name': 'The Ballad of the Crystal Empire', 'video': 'https://youtube.com/watch?v=rqzZPXUMaZA', 'length': '00:01:33', 'url': 'https://mlp.fandom.com/wiki/The_Ballad_of_the_Crystal_Empire', 'episode': 'The Crystal Empire - Part 1', 'musicby': 'Daniel Ingram', 'lyricsby': 'Meghan McCarthy', 'keysignature': 'C major'}, {'id': 39, 'name': 'The Success Song', 'video': 'https://youtube.com/watch?v=X7az2FrZEQs', 'length': '00:01:06', 'url': 'https://mlp.fandom.com/wiki/The_Success_Song', 'episode': 'The Crystal Empire - Part 2', 'musicby': 'Daniel Ingram\\nSteffan Andrews (orchestration)', 'lyricsby': 'Meghan McCarthy', 'keysignature': 'G major\\nD major'}, {'id': 40, 'name': 'Babs Seed', 'video': 'https://youtube.com/watch?v=pQlU6EMh-_s', 'length': '00:01:49', 'url': 'https://mlp.fandom.com/wiki/Babs_Seed_(song)', 'episode': 'One Bad Apple', 'musicby': 'Daniel Ingram\\nDavid Corman (drums/guitar)', 'lyricsby': 'Cindy Morrow\\nDaniel Ingram', 'keysignature': 'E-flat major'}, {'id': 41, 'name': 'Raise This Barn', 'video': 'https://youtube.com/watch?v=Js6TaXEx-Y4', 'length': '00:02:12', 'url': 'https://mlp.fandom.com/wiki/Raise_This_Barn', 'episode': 'Apple Family Reunion', 'musicby': 'Daniel Ingram\\nDavid Corman (production)\\nCameron Wilson (fiddle)\\nTrevor Hoffman (choral arrangement)', 'lyricsby': 'Cindy Morrow', 'keysignature': 'D major'}, {'id': 42, 'name': 'Morning in Ponyville', 'video': 'https://youtube.com/watch?v=FRvN4KR2c8s', 'length': '00:00:56', 'url': 'https://mlp.fandom.com/wiki/Morning_in_Ponyville', 'episode': 'Magical Mystery Cure', 'musicby': 'Daniel Ingram\\nSteffan Andrews (orchestration)', 'lyricsby': 'M. A. Larson', 'keysignature': 'D major'}, {'id': 43, 'name': 'What My Cutie Mark Is Telling Me', 'video': 'https://youtube.com/watch?v=vjSjbOvgSiQ', 'length': '00:01:55', 'url': 'https://mlp.fandom.com/wiki/What_My_Cutie_Mark_Is_Telling_Me', 'episode': 'Magical Mystery Cure', 'musicby': 'Daniel Ingram\\nSteffan Andrews (orchestration)', 'lyricsby': 'M. A. Larson\\nDaniel Ingram', 'keysignature': 'C major\\nD-flat major'}, {'id': 44, 'name': \"I've Got to Find a Way\", 'video': 'https://youtube.com/watch?v=ikq7hE8yYYA', 'length': '00:01:06', 'url': 'https://mlp.fandom.com/wiki/I%27ve_Got_to_Find_a_Way', 'episode': 'Magical Mystery Cure', 'musicby': 'Daniel Ingram', 'lyricsby': 'Daniel Ingram', 'keysignature': 'B-flat major'}, {'id': 45, 'name': 'A True, True Friend', 'video': 'https://youtube.com/watch?v=y4cNwdWkGN0', 'length': '00:03:28', 'url': 'https://mlp.fandom.com/wiki/A_True,_True_Friend', 'episode': 'Magical Mystery Cure', 'musicby': 'Daniel Ingram\\nSteffan Andrews (orchestration)', 'lyricsby': 'Daniel Ingram', 'keysignature': 'B-flat major\\nB major'}, {'id': 46, 'name': \"Celestia's Ballad\", 'video': 'https://youtube.com/watch?v=WOsQph-_kNQ', 'length': '00:01:42', 'url': 'https://mlp.fandom.com/wiki/Celestia%27s_Ballad', 'episode': 'Magical Mystery Cure', 'musicby': 'Daniel Ingram\\nSteffan Andrews (orchestration)', 'lyricsby': 'Daniel Ingram', 'keysignature': 'B major\\nends in C major'}, {'id': 47, 'name': 'Behold, Princess Twilight Sparkle', 'video': 'https://youtube.com/watch?v=d2Dxyn_kgbg', 'length': '00:00:35', 'url': 'https://mlp.fandom.com/wiki/Behold,_Princess_Twilight_Sparkle', 'episode': 'Magical Mystery Cure', 'musicby': 'Daniel Ingram\\nSteffan Andrews (orchestration)', 'lyricsby': 'Daniel Ingram', 'keysignature': 'B-flat major'}, {'id': 48, 'name': 'Life in Equestria', 'video': 'https://youtube.com/watch?v=eEvD6kNhVZY', 'length': '00:00:42', 'url': 'https://mlp.fandom.com/wiki/Life_in_Equestria', 'episode': 'Magical Mystery Cure', 'musicby': 'Daniel Ingram\\nSteffan Andrews (orchestration)', 'lyricsby': 'M. A. Larson', 'keysignature': 'D major'}, {'id': 49, 'name': 'This Strange World', 'video': 'https://youtube.com/watch?v=Vtz6bvwK9eI', 'length': '00:01:15', 'url': 'https://mlp.fandom.com/wiki/This_Strange_World', 'episode': 'Equestria Girls', 'musicby': 'Daniel Ingram', 'lyricsby': 'Daniel Ingram', 'keysignature': 'C major'}, {'id': 50, 'name': 'Equestria Girls', 'video': 'https://youtube.com/watch?v=A4WLuR70ZO4', 'length': '00:03:15', 'url': 'https://mlp.fandom.com/wiki/Equestria_Girls_(Cafeteria_Song)', 'episode': 'Equestria Girls', 'musicby': 'Daniel Ingram', 'lyricsby': 'Daniel Ingram\\nMeghan McCarthy', 'keysignature': 'E major'}]}\n"
     ]
    }
   ],
   "source": [
    "song = requests.get(\"https://ponyweb.ml/v1/song/all\")\n",
    "print(song.json())"
   ]
  },
  {
   "cell_type": "code",
   "execution_count": null,
   "metadata": {},
   "outputs": [],
   "source": [
    "print(song.json()[\"data\"])"
   ]
  },
  {
   "cell_type": "code",
   "execution_count": 27,
   "metadata": {},
   "outputs": [
    {
     "name": "stdout",
     "output_type": "stream",
     "text": [
      "{'id': 40, 'name': 'Babs Seed', 'video': 'https://youtube.com/watch?v=pQlU6EMh-_s', 'length': '00:01:49', 'url': 'https://mlp.fandom.com/wiki/Babs_Seed_(song)', 'episode': 'One Bad Apple', 'musicby': 'Daniel Ingram\\nDavid Corman (drums/guitar)', 'lyricsby': 'Cindy Morrow\\nDaniel Ingram', 'keysignature': 'E-flat major'}\n"
     ]
    }
   ],
   "source": [
    "print(song.json()[\"data\"][39])"
   ]
  },
  {
   "cell_type": "code",
   "execution_count": 26,
   "metadata": {},
   "outputs": [
    {
     "name": "stdout",
     "output_type": "stream",
     "text": [
      "Babs Seed\n"
     ]
    }
   ],
   "source": [
    "\"\"\" la consigna me pide el nombre de la cancion 40\"\"\"\n",
    "print(song.json()[\"data\"][39][\"name\"])"
   ]
  }
 ],
 "metadata": {
  "kernelspec": {
   "display_name": "Python 3.10.3 64-bit",
   "language": "python",
   "name": "python3"
  },
  "language_info": {
   "codemirror_mode": {
    "name": "ipython",
    "version": 3
   },
   "file_extension": ".py",
   "mimetype": "text/x-python",
   "name": "python",
   "nbconvert_exporter": "python",
   "pygments_lexer": "ipython3",
   "version": "3.10.3"
  },
  "orig_nbformat": 4,
  "vscode": {
   "interpreter": {
    "hash": "e6104bf604ca1a37923b4f279a3bc03307071c215727ed52dcf746e90ba65021"
   }
  }
 },
 "nbformat": 4,
 "nbformat_minor": 2
}
