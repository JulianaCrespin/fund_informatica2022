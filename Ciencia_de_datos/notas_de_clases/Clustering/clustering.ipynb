{
 "cells": [
  {
   "cell_type": "code",
   "execution_count": null,
   "metadata": {},
   "outputs": [],
   "source": [
    "import pandas as pd\n",
    "\n",
    "iris = pd.read_csv(\"iris_data.txt\", sep = '\\t') #si no funciona podemos cambiar .txt por .csv\n",
    "# iris.info() #hago info y veo que está limpio, no hay NaN\n",
    "iris.describe() #no son paramétricos porque la mediana no es igual a la media\n"
   ]
  },
  {
   "cell_type": "code",
   "execution_count": null,
   "metadata": {},
   "outputs": [],
   "source": [
    "# !pip3 install sklearn"
   ]
  },
  {
   "cell_type": "code",
   "execution_count": null,
   "metadata": {},
   "outputs": [],
   "source": [
    "import seaborn as sns\n",
    "import matplotlib.pyplot as plt\n",
    "g = sns.histplot(data = iris, x = \"sepal.length\", binwidth=0.25, kde = True)\n",
    "plt.show() #no tiene una distribución normal"
   ]
  },
  {
   "cell_type": "code",
   "execution_count": null,
   "metadata": {},
   "outputs": [],
   "source": [
    "\"\"\" Correlatograma \"\"\"\n",
    "g = sns.pairplot(iris) #Graficar todas las variables con todas las variables \n",
    "# hay correlacion en: petal.length y petal.width, "
   ]
  },
  {
   "cell_type": "code",
   "execution_count": 29,
   "metadata": {},
   "outputs": [],
   "source": [
    "\"\"\"  Escalado Estandar:\n",
    "Transformar o convertir el conjunto de datos en una distribución normal, de forma que todos datos tenga una varianza del mismo orden. \n",
    "De este modo, cada dato nos dará una idea de a cuántos desvíos de la media está ese punto.\"\"\"\n",
    "\n",
    "from sklearn.preprocessing import StandardScaler\n",
    "scaler = StandardScaler()\n",
    "iris_escaleado = scaler.fit_transform(iris)"
   ]
  },
  {
   "cell_type": "code",
   "execution_count": 32,
   "metadata": {},
   "outputs": [
    {
     "data": {
      "text/html": [
       "<style>#sk-container-id-2 {color: black;background-color: white;}#sk-container-id-2 pre{padding: 0;}#sk-container-id-2 div.sk-toggleable {background-color: white;}#sk-container-id-2 label.sk-toggleable__label {cursor: pointer;display: block;width: 100%;margin-bottom: 0;padding: 0.3em;box-sizing: border-box;text-align: center;}#sk-container-id-2 label.sk-toggleable__label-arrow:before {content: \"▸\";float: left;margin-right: 0.25em;color: #696969;}#sk-container-id-2 label.sk-toggleable__label-arrow:hover:before {color: black;}#sk-container-id-2 div.sk-estimator:hover label.sk-toggleable__label-arrow:before {color: black;}#sk-container-id-2 div.sk-toggleable__content {max-height: 0;max-width: 0;overflow: hidden;text-align: left;background-color: #f0f8ff;}#sk-container-id-2 div.sk-toggleable__content pre {margin: 0.2em;color: black;border-radius: 0.25em;background-color: #f0f8ff;}#sk-container-id-2 input.sk-toggleable__control:checked~div.sk-toggleable__content {max-height: 200px;max-width: 100%;overflow: auto;}#sk-container-id-2 input.sk-toggleable__control:checked~label.sk-toggleable__label-arrow:before {content: \"▾\";}#sk-container-id-2 div.sk-estimator input.sk-toggleable__control:checked~label.sk-toggleable__label {background-color: #d4ebff;}#sk-container-id-2 div.sk-label input.sk-toggleable__control:checked~label.sk-toggleable__label {background-color: #d4ebff;}#sk-container-id-2 input.sk-hidden--visually {border: 0;clip: rect(1px 1px 1px 1px);clip: rect(1px, 1px, 1px, 1px);height: 1px;margin: -1px;overflow: hidden;padding: 0;position: absolute;width: 1px;}#sk-container-id-2 div.sk-estimator {font-family: monospace;background-color: #f0f8ff;border: 1px dotted black;border-radius: 0.25em;box-sizing: border-box;margin-bottom: 0.5em;}#sk-container-id-2 div.sk-estimator:hover {background-color: #d4ebff;}#sk-container-id-2 div.sk-parallel-item::after {content: \"\";width: 100%;border-bottom: 1px solid gray;flex-grow: 1;}#sk-container-id-2 div.sk-label:hover label.sk-toggleable__label {background-color: #d4ebff;}#sk-container-id-2 div.sk-serial::before {content: \"\";position: absolute;border-left: 1px solid gray;box-sizing: border-box;top: 0;bottom: 0;left: 50%;z-index: 0;}#sk-container-id-2 div.sk-serial {display: flex;flex-direction: column;align-items: center;background-color: white;padding-right: 0.2em;padding-left: 0.2em;position: relative;}#sk-container-id-2 div.sk-item {position: relative;z-index: 1;}#sk-container-id-2 div.sk-parallel {display: flex;align-items: stretch;justify-content: center;background-color: white;position: relative;}#sk-container-id-2 div.sk-item::before, #sk-container-id-2 div.sk-parallel-item::before {content: \"\";position: absolute;border-left: 1px solid gray;box-sizing: border-box;top: 0;bottom: 0;left: 50%;z-index: -1;}#sk-container-id-2 div.sk-parallel-item {display: flex;flex-direction: column;z-index: 1;position: relative;background-color: white;}#sk-container-id-2 div.sk-parallel-item:first-child::after {align-self: flex-end;width: 50%;}#sk-container-id-2 div.sk-parallel-item:last-child::after {align-self: flex-start;width: 50%;}#sk-container-id-2 div.sk-parallel-item:only-child::after {width: 0;}#sk-container-id-2 div.sk-dashed-wrapped {border: 1px dashed gray;margin: 0 0.4em 0.5em 0.4em;box-sizing: border-box;padding-bottom: 0.4em;background-color: white;}#sk-container-id-2 div.sk-label label {font-family: monospace;font-weight: bold;display: inline-block;line-height: 1.2em;}#sk-container-id-2 div.sk-label-container {text-align: center;}#sk-container-id-2 div.sk-container {/* jupyter's `normalize.less` sets `[hidden] { display: none; }` but bootstrap.min.css set `[hidden] { display: none !important; }` so we also need the `!important` here to be able to override the default hidden behavior on the sphinx rendered scikit-learn.org. See: https://github.com/scikit-learn/scikit-learn/issues/21755 */display: inline-block !important;position: relative;}#sk-container-id-2 div.sk-text-repr-fallback {display: none;}</style><div id=\"sk-container-id-2\" class=\"sk-top-container\"><div class=\"sk-text-repr-fallback\"><pre>KMeans(init=&#x27;random&#x27;, n_clusters=3, random_state=123457)</pre><b>In a Jupyter environment, please rerun this cell to show the HTML representation or trust the notebook. <br />On GitHub, the HTML representation is unable to render, please try loading this page with nbviewer.org.</b></div><div class=\"sk-container\" hidden><div class=\"sk-item\"><div class=\"sk-estimator sk-toggleable\"><input class=\"sk-toggleable__control sk-hidden--visually\" id=\"sk-estimator-id-2\" type=\"checkbox\" checked><label for=\"sk-estimator-id-2\" class=\"sk-toggleable__label sk-toggleable__label-arrow\">KMeans</label><div class=\"sk-toggleable__content\"><pre>KMeans(init=&#x27;random&#x27;, n_clusters=3, random_state=123457)</pre></div></div></div></div></div>"
      ],
      "text/plain": [
       "KMeans(init='random', n_clusters=3, random_state=123457)"
      ]
     },
     "execution_count": 32,
     "metadata": {},
     "output_type": "execute_result"
    }
   ],
   "source": [
    "\"\"\" K-means\n",
    "Agrupa las observaciones en los mejores K grupos distintos, es decirlos k clusters con la menor varianza interna (intra-cluster variation)\n",
    "posible. Es decir que se reparten las observaciones en K clusters de forma que la suma de las varianzas internas de todos ellos sea lo \n",
    "menor posible. \n",
    "\"\"\"\n",
    "# sirve para agrupar datos\n",
    "\n",
    "from sklearn.cluster import KMeans, DBSCAN\n",
    "\n",
    "k = 3  #definimos la cantidad de clusters\n",
    "kmeans = KMeans(n_clusters = k, init=\"random\", n_init=10, max_iter=300, random_state=123457) #tomamos los centroides de forma aleatoria y definimos un máximo de 300 iteraciones\n",
    "kmeans.fit(iris_escaleado)  #aplicamos el método a nuestros datos"
   ]
  },
  {
   "cell_type": "code",
   "execution_count": 33,
   "metadata": {},
   "outputs": [
    {
     "name": "stdout",
     "output_type": "stream",
     "text": [
      "[1 1 1 1 1 1 1 1 1 1 1 1 1 1 1 1 1 1 1 1 1 1 1 1 1 1 1 1 1 1 1 1 1 1 1 1 1\n",
      " 1 1 1 1 1 1 1 1 1 1 1 1 1 2 2 2 0 0 0 2 0 2 0 0 0 0 0 0 2 0 0 0 0 2 0 0 0\n",
      " 0 2 2 2 0 0 0 0 0 0 0 2 2 0 0 0 0 0 0 0 0 0 0 0 0 0 2 0 2 2 2 2 0 2 2 2 2\n",
      " 2 2 0 0 2 2 2 2 0 2 0 2 0 2 2 0 2 2 2 2 2 2 0 0 2 2 2 0 2 2 2 0 2 2 2 0 2\n",
      " 2 0]\n"
     ]
    }
   ],
   "source": [
    "print(kmeans.labels_)"
   ]
  },
  {
   "cell_type": "code",
   "execution_count": 34,
   "metadata": {},
   "outputs": [
    {
     "name": "stdout",
     "output_type": "stream",
     "text": [
      "[[-0.06881714 -0.89036741  0.34501443  0.28492552]\n",
      " [-1.01457897  0.84230679 -1.30487835 -1.25512862]\n",
      " [ 1.13140499  0.08716178  0.98548265  0.99875633]]\n"
     ]
    }
   ],
   "source": [
    "print(kmeans.cluster_centers_ )"
   ]
  },
  {
   "cell_type": "code",
   "execution_count": 38,
   "metadata": {},
   "outputs": [
    {
     "ename": "ValueError",
     "evalue": "The palette list has the wrong number of colors.",
     "output_type": "error",
     "traceback": [
      "\u001b[1;31m---------------------------------------------------------------------------\u001b[0m",
      "\u001b[1;31mValueError\u001b[0m                                Traceback (most recent call last)",
      "\u001b[1;32mc:\\Users\\usuario\\Documents\\MC\\clustering\\clustering.ipynb Cell 9'\u001b[0m in \u001b[0;36m<cell line: 6>\u001b[1;34m()\u001b[0m\n\u001b[0;32m      <a href='vscode-notebook-cell:/c%3A/Users/usuario/Documents/MC/clustering/clustering.ipynb#ch0000014?line=3'>4</a>\u001b[0m \u001b[39mimport\u001b[39;00m \u001b[39mseaborn\u001b[39;00m \u001b[39mas\u001b[39;00m \u001b[39msns\u001b[39;00m\n\u001b[0;32m      <a href='vscode-notebook-cell:/c%3A/Users/usuario/Documents/MC/clustering/clustering.ipynb#ch0000014?line=4'>5</a>\u001b[0m colores \u001b[39m=\u001b[39m [\u001b[39m\"\u001b[39m\u001b[39mred\u001b[39m\u001b[39m\"\u001b[39m, \u001b[39m\"\u001b[39m\u001b[39mgreen\u001b[39m\u001b[39m\"\u001b[39m]\n\u001b[1;32m----> <a href='vscode-notebook-cell:/c%3A/Users/usuario/Documents/MC/clustering/clustering.ipynb#ch0000014?line=5'>6</a>\u001b[0m g \u001b[39m=\u001b[39m sns\u001b[39m.\u001b[39;49mscatterplot(x \u001b[39m=\u001b[39;49m iris_escaleado[:,\u001b[39m1\u001b[39;49m], y \u001b[39m=\u001b[39;49m iris_escaleado[:, \u001b[39m2\u001b[39;49m], hue \u001b[39m=\u001b[39;49m kmeans\u001b[39m.\u001b[39;49mlabels_, palette \u001b[39m=\u001b[39;49m colores, alpha \u001b[39m=\u001b[39;49m \u001b[39m0.5\u001b[39;49m)\n\u001b[0;32m      <a href='vscode-notebook-cell:/c%3A/Users/usuario/Documents/MC/clustering/clustering.ipynb#ch0000014?line=6'>7</a>\u001b[0m g \u001b[39m=\u001b[39m sns\u001b[39m.\u001b[39mscatterplot(x \u001b[39m=\u001b[39m kmeans\u001b[39m.\u001b[39mcluster_centers_[:,\u001b[39m1\u001b[39m], y \u001b[39m=\u001b[39m kmeans\u001b[39m.\u001b[39mcluster_centers_[:,\u001b[39m2\u001b[39m], zorder \u001b[39m=\u001b[39m \u001b[39m10\u001b[39m, palette \u001b[39m=\u001b[39m colores, hue \u001b[39m=\u001b[39m [\u001b[39m0\u001b[39m, \u001b[39m1\u001b[39m], legend \u001b[39m=\u001b[39m \u001b[39mFalse\u001b[39;00m, marker\u001b[39m=\u001b[39m\u001b[39m6\u001b[39m, s\u001b[39m=\u001b[39m\u001b[39m200\u001b[39m)\n",
      "File \u001b[1;32mc:\\Users\\usuario\\AppData\\Local\\Programs\\Python\\Python310\\lib\\site-packages\\seaborn\\_decorators.py:46\u001b[0m, in \u001b[0;36m_deprecate_positional_args.<locals>.inner_f\u001b[1;34m(*args, **kwargs)\u001b[0m\n\u001b[0;32m     <a href='file:///c%3A/Users/usuario/AppData/Local/Programs/Python/Python310/lib/site-packages/seaborn/_decorators.py?line=35'>36</a>\u001b[0m     warnings\u001b[39m.\u001b[39mwarn(\n\u001b[0;32m     <a href='file:///c%3A/Users/usuario/AppData/Local/Programs/Python/Python310/lib/site-packages/seaborn/_decorators.py?line=36'>37</a>\u001b[0m         \u001b[39m\"\u001b[39m\u001b[39mPass the following variable\u001b[39m\u001b[39m{}\u001b[39;00m\u001b[39m as \u001b[39m\u001b[39m{}\u001b[39;00m\u001b[39mkeyword arg\u001b[39m\u001b[39m{}\u001b[39;00m\u001b[39m: \u001b[39m\u001b[39m{}\u001b[39;00m\u001b[39m. \u001b[39m\u001b[39m\"\u001b[39m\n\u001b[0;32m     <a href='file:///c%3A/Users/usuario/AppData/Local/Programs/Python/Python310/lib/site-packages/seaborn/_decorators.py?line=37'>38</a>\u001b[0m         \u001b[39m\"\u001b[39m\u001b[39mFrom version 0.12, the only valid positional argument \u001b[39m\u001b[39m\"\u001b[39m\n\u001b[1;32m   (...)\u001b[0m\n\u001b[0;32m     <a href='file:///c%3A/Users/usuario/AppData/Local/Programs/Python/Python310/lib/site-packages/seaborn/_decorators.py?line=42'>43</a>\u001b[0m         \u001b[39mFutureWarning\u001b[39;00m\n\u001b[0;32m     <a href='file:///c%3A/Users/usuario/AppData/Local/Programs/Python/Python310/lib/site-packages/seaborn/_decorators.py?line=43'>44</a>\u001b[0m     )\n\u001b[0;32m     <a href='file:///c%3A/Users/usuario/AppData/Local/Programs/Python/Python310/lib/site-packages/seaborn/_decorators.py?line=44'>45</a>\u001b[0m kwargs\u001b[39m.\u001b[39mupdate({k: arg \u001b[39mfor\u001b[39;00m k, arg \u001b[39min\u001b[39;00m \u001b[39mzip\u001b[39m(sig\u001b[39m.\u001b[39mparameters, args)})\n\u001b[1;32m---> <a href='file:///c%3A/Users/usuario/AppData/Local/Programs/Python/Python310/lib/site-packages/seaborn/_decorators.py?line=45'>46</a>\u001b[0m \u001b[39mreturn\u001b[39;00m f(\u001b[39m*\u001b[39m\u001b[39m*\u001b[39mkwargs)\n",
      "File \u001b[1;32mc:\\Users\\usuario\\AppData\\Local\\Programs\\Python\\Python310\\lib\\site-packages\\seaborn\\relational.py:815\u001b[0m, in \u001b[0;36mscatterplot\u001b[1;34m(x, y, hue, style, size, data, palette, hue_order, hue_norm, sizes, size_order, size_norm, markers, style_order, x_bins, y_bins, units, estimator, ci, n_boot, alpha, x_jitter, y_jitter, legend, ax, **kwargs)\u001b[0m\n\u001b[0;32m    <a href='file:///c%3A/Users/usuario/AppData/Local/Programs/Python/Python310/lib/site-packages/seaborn/relational.py?line=806'>807</a>\u001b[0m variables \u001b[39m=\u001b[39m _ScatterPlotter\u001b[39m.\u001b[39mget_semantics(\u001b[39mlocals\u001b[39m())\n\u001b[0;32m    <a href='file:///c%3A/Users/usuario/AppData/Local/Programs/Python/Python310/lib/site-packages/seaborn/relational.py?line=807'>808</a>\u001b[0m p \u001b[39m=\u001b[39m _ScatterPlotter(\n\u001b[0;32m    <a href='file:///c%3A/Users/usuario/AppData/Local/Programs/Python/Python310/lib/site-packages/seaborn/relational.py?line=808'>809</a>\u001b[0m     data\u001b[39m=\u001b[39mdata, variables\u001b[39m=\u001b[39mvariables,\n\u001b[0;32m    <a href='file:///c%3A/Users/usuario/AppData/Local/Programs/Python/Python310/lib/site-packages/seaborn/relational.py?line=809'>810</a>\u001b[0m     x_bins\u001b[39m=\u001b[39mx_bins, y_bins\u001b[39m=\u001b[39my_bins,\n\u001b[0;32m    <a href='file:///c%3A/Users/usuario/AppData/Local/Programs/Python/Python310/lib/site-packages/seaborn/relational.py?line=810'>811</a>\u001b[0m     estimator\u001b[39m=\u001b[39mestimator, ci\u001b[39m=\u001b[39mci, n_boot\u001b[39m=\u001b[39mn_boot,\n\u001b[0;32m    <a href='file:///c%3A/Users/usuario/AppData/Local/Programs/Python/Python310/lib/site-packages/seaborn/relational.py?line=811'>812</a>\u001b[0m     alpha\u001b[39m=\u001b[39malpha, x_jitter\u001b[39m=\u001b[39mx_jitter, y_jitter\u001b[39m=\u001b[39my_jitter, legend\u001b[39m=\u001b[39mlegend,\n\u001b[0;32m    <a href='file:///c%3A/Users/usuario/AppData/Local/Programs/Python/Python310/lib/site-packages/seaborn/relational.py?line=812'>813</a>\u001b[0m )\n\u001b[1;32m--> <a href='file:///c%3A/Users/usuario/AppData/Local/Programs/Python/Python310/lib/site-packages/seaborn/relational.py?line=814'>815</a>\u001b[0m p\u001b[39m.\u001b[39;49mmap_hue(palette\u001b[39m=\u001b[39;49mpalette, order\u001b[39m=\u001b[39;49mhue_order, norm\u001b[39m=\u001b[39;49mhue_norm)\n\u001b[0;32m    <a href='file:///c%3A/Users/usuario/AppData/Local/Programs/Python/Python310/lib/site-packages/seaborn/relational.py?line=815'>816</a>\u001b[0m p\u001b[39m.\u001b[39mmap_size(sizes\u001b[39m=\u001b[39msizes, order\u001b[39m=\u001b[39msize_order, norm\u001b[39m=\u001b[39msize_norm)\n\u001b[0;32m    <a href='file:///c%3A/Users/usuario/AppData/Local/Programs/Python/Python310/lib/site-packages/seaborn/relational.py?line=816'>817</a>\u001b[0m p\u001b[39m.\u001b[39mmap_style(markers\u001b[39m=\u001b[39mmarkers, order\u001b[39m=\u001b[39mstyle_order)\n",
      "File \u001b[1;32mc:\\Users\\usuario\\AppData\\Local\\Programs\\Python\\Python310\\lib\\site-packages\\seaborn\\_core.py:53\u001b[0m, in \u001b[0;36mSemanticMapping.map\u001b[1;34m(cls, plotter, *args, **kwargs)\u001b[0m\n\u001b[0;32m     <a href='file:///c%3A/Users/usuario/AppData/Local/Programs/Python/Python310/lib/site-packages/seaborn/_core.py?line=49'>50</a>\u001b[0m \u001b[39mdef\u001b[39;00m \u001b[39mmap\u001b[39m(\u001b[39mcls\u001b[39m, plotter, \u001b[39m*\u001b[39margs, \u001b[39m*\u001b[39m\u001b[39m*\u001b[39mkwargs):\n\u001b[0;32m     <a href='file:///c%3A/Users/usuario/AppData/Local/Programs/Python/Python310/lib/site-packages/seaborn/_core.py?line=50'>51</a>\u001b[0m     \u001b[39m# This method is assigned the __init__ docstring\u001b[39;00m\n\u001b[0;32m     <a href='file:///c%3A/Users/usuario/AppData/Local/Programs/Python/Python310/lib/site-packages/seaborn/_core.py?line=51'>52</a>\u001b[0m     method_name \u001b[39m=\u001b[39m \u001b[39m\"\u001b[39m\u001b[39m_\u001b[39m\u001b[39m{}\u001b[39;00m\u001b[39m_map\u001b[39m\u001b[39m\"\u001b[39m\u001b[39m.\u001b[39mformat(\u001b[39mcls\u001b[39m\u001b[39m.\u001b[39m\u001b[39m__name__\u001b[39m[:\u001b[39m-\u001b[39m\u001b[39m7\u001b[39m]\u001b[39m.\u001b[39mlower())\n\u001b[1;32m---> <a href='file:///c%3A/Users/usuario/AppData/Local/Programs/Python/Python310/lib/site-packages/seaborn/_core.py?line=52'>53</a>\u001b[0m     \u001b[39msetattr\u001b[39m(plotter, method_name, \u001b[39mcls\u001b[39m(plotter, \u001b[39m*\u001b[39margs, \u001b[39m*\u001b[39m\u001b[39m*\u001b[39mkwargs))\n\u001b[0;32m     <a href='file:///c%3A/Users/usuario/AppData/Local/Programs/Python/Python310/lib/site-packages/seaborn/_core.py?line=53'>54</a>\u001b[0m     \u001b[39mreturn\u001b[39;00m plotter\n",
      "File \u001b[1;32mc:\\Users\\usuario\\AppData\\Local\\Programs\\Python\\Python310\\lib\\site-packages\\seaborn\\_core.py:118\u001b[0m, in \u001b[0;36mHueMapping.__init__\u001b[1;34m(self, plotter, palette, order, norm)\u001b[0m\n\u001b[0;32m    <a href='file:///c%3A/Users/usuario/AppData/Local/Programs/Python/Python310/lib/site-packages/seaborn/_core.py?line=114'>115</a>\u001b[0m \u001b[39melif\u001b[39;00m map_type \u001b[39m==\u001b[39m \u001b[39m\"\u001b[39m\u001b[39mcategorical\u001b[39m\u001b[39m\"\u001b[39m:\n\u001b[0;32m    <a href='file:///c%3A/Users/usuario/AppData/Local/Programs/Python/Python310/lib/site-packages/seaborn/_core.py?line=116'>117</a>\u001b[0m     cmap \u001b[39m=\u001b[39m norm \u001b[39m=\u001b[39m \u001b[39mNone\u001b[39;00m\n\u001b[1;32m--> <a href='file:///c%3A/Users/usuario/AppData/Local/Programs/Python/Python310/lib/site-packages/seaborn/_core.py?line=117'>118</a>\u001b[0m     levels, lookup_table \u001b[39m=\u001b[39m \u001b[39mself\u001b[39;49m\u001b[39m.\u001b[39;49mcategorical_mapping(\n\u001b[0;32m    <a href='file:///c%3A/Users/usuario/AppData/Local/Programs/Python/Python310/lib/site-packages/seaborn/_core.py?line=118'>119</a>\u001b[0m         data, palette, order,\n\u001b[0;32m    <a href='file:///c%3A/Users/usuario/AppData/Local/Programs/Python/Python310/lib/site-packages/seaborn/_core.py?line=119'>120</a>\u001b[0m     )\n\u001b[0;32m    <a href='file:///c%3A/Users/usuario/AppData/Local/Programs/Python/Python310/lib/site-packages/seaborn/_core.py?line=121'>122</a>\u001b[0m \u001b[39m# --- Option 3: datetime mapping\u001b[39;00m\n\u001b[0;32m    <a href='file:///c%3A/Users/usuario/AppData/Local/Programs/Python/Python310/lib/site-packages/seaborn/_core.py?line=122'>123</a>\u001b[0m \n\u001b[0;32m    <a href='file:///c%3A/Users/usuario/AppData/Local/Programs/Python/Python310/lib/site-packages/seaborn/_core.py?line=123'>124</a>\u001b[0m \u001b[39melse\u001b[39;00m:\n\u001b[0;32m    <a href='file:///c%3A/Users/usuario/AppData/Local/Programs/Python/Python310/lib/site-packages/seaborn/_core.py?line=124'>125</a>\u001b[0m     \u001b[39m# TODO this needs actual implementation\u001b[39;00m\n\u001b[0;32m    <a href='file:///c%3A/Users/usuario/AppData/Local/Programs/Python/Python310/lib/site-packages/seaborn/_core.py?line=125'>126</a>\u001b[0m     cmap \u001b[39m=\u001b[39m norm \u001b[39m=\u001b[39m \u001b[39mNone\u001b[39;00m\n",
      "File \u001b[1;32mc:\\Users\\usuario\\AppData\\Local\\Programs\\Python\\Python310\\lib\\site-packages\\seaborn\\_core.py:204\u001b[0m, in \u001b[0;36mHueMapping.categorical_mapping\u001b[1;34m(self, data, palette, order)\u001b[0m\n\u001b[0;32m    <a href='file:///c%3A/Users/usuario/AppData/Local/Programs/Python/Python310/lib/site-packages/seaborn/_core.py?line=201'>202</a>\u001b[0m     \u001b[39mif\u001b[39;00m \u001b[39mlen\u001b[39m(palette) \u001b[39m!=\u001b[39m n_colors:\n\u001b[0;32m    <a href='file:///c%3A/Users/usuario/AppData/Local/Programs/Python/Python310/lib/site-packages/seaborn/_core.py?line=202'>203</a>\u001b[0m         err \u001b[39m=\u001b[39m \u001b[39m\"\u001b[39m\u001b[39mThe palette list has the wrong number of colors.\u001b[39m\u001b[39m\"\u001b[39m\n\u001b[1;32m--> <a href='file:///c%3A/Users/usuario/AppData/Local/Programs/Python/Python310/lib/site-packages/seaborn/_core.py?line=203'>204</a>\u001b[0m         \u001b[39mraise\u001b[39;00m \u001b[39mValueError\u001b[39;00m(err)\n\u001b[0;32m    <a href='file:///c%3A/Users/usuario/AppData/Local/Programs/Python/Python310/lib/site-packages/seaborn/_core.py?line=204'>205</a>\u001b[0m     colors \u001b[39m=\u001b[39m palette\n\u001b[0;32m    <a href='file:///c%3A/Users/usuario/AppData/Local/Programs/Python/Python310/lib/site-packages/seaborn/_core.py?line=205'>206</a>\u001b[0m \u001b[39melse\u001b[39;00m:\n",
      "\u001b[1;31mValueError\u001b[0m: The palette list has the wrong number of colors."
     ]
    }
   ],
   "source": [
    "\"\"\" Para entender mejor los resultados obtenidos grafiquemos la distribución de puntos, \n",
    "pintando cada punto según el color correspondiente al etiquetado:\"\"\"\n",
    "\n",
    "import seaborn as sns\n",
    "colores = [\"red\", \"green\"]\n",
    "g = sns.scatterplot(x = iris_escaleado[:,1], y = iris_escaleado[:, 2], hue = kmeans.labels_, palette = colores, alpha = 0.5)\n",
    "g = sns.scatterplot(x = kmeans.cluster_centers_[:,1], y = kmeans.cluster_centers_[:,2], zorder = 10, palette = colores, hue = [0, 1], legend = False, marker=6, s=200)"
   ]
  }
 ],
 "metadata": {
  "interpreter": {
   "hash": "e6104bf604ca1a37923b4f279a3bc03307071c215727ed52dcf746e90ba65021"
  },
  "kernelspec": {
   "display_name": "Python 3.10.4 64-bit",
   "language": "python",
   "name": "python3"
  },
  "language_info": {
   "codemirror_mode": {
    "name": "ipython",
    "version": 3
   },
   "file_extension": ".py",
   "mimetype": "text/x-python",
   "name": "python",
   "nbconvert_exporter": "python",
   "pygments_lexer": "ipython3",
   "version": "3.10.4"
  },
  "orig_nbformat": 4
 },
 "nbformat": 4,
 "nbformat_minor": 2
}
