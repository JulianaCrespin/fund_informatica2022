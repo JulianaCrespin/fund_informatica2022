{
 "cells": [
  {
   "cell_type": "code",
   "execution_count": null,
   "metadata": {},
   "outputs": [],
   "source": [
    "import pandas as pd\n",
    "personas = pd.read_csv(r\"C:\\Users\\usuario\\Documents\\personas_2011.csv\", sep=\";\")\n",
    "# Desafío I: Averiguá para qué sirven los parámetro sep, index_col, nrows y header\n",
    "# sep: el separador\n",
    "# header: imprimo 5 rows del df"
   ]
  },
  {
   "cell_type": "code",
   "execution_count": null,
   "metadata": {},
   "outputs": [],
   "source": [
    "# Desafío II: Descargá a tu computadora la tabla de personas que conforman el Ministerio de Ciencia y Tecnología de Argentina, en formato csv.\n",
    "# ¿Qué separación entre columnas posee el archivo? está separada entre ;"
   ]
  },
  {
   "cell_type": "code",
   "execution_count": null,
   "metadata": {},
   "outputs": [],
   "source": [
    "personas.head(10) #me imprime 10 rows\n",
    "personas.info() #qué tipo de datos tengo en cada columna: str, float, int\n",
    "personas.describe() #me hace un analisis de todas las columnas numéricas: count, promedio, min, max, cuartiles"
   ]
  },
  {
   "cell_type": "code",
   "execution_count": null,
   "metadata": {},
   "outputs": [],
   "source": [
    "personas.loc[2, 'persona_id']\n",
    "personas['columna'].tolist()"
   ]
  },
  {
   "cell_type": "code",
   "execution_count": null,
   "metadata": {},
   "outputs": [],
   "source": [
    "# Desafío IV: Extrae la columna seniority_level y contá cuántas personas tenían expertice nivel B, C y D\n",
    "print(personas[\"seniority_level\"]) #booleano\n",
    "print(personas[\"seniority_level\"].count()) #me dice cuantos seniority levels hay\n",
    "print(personas.groupby(\"seniority_level\").count()) #me agrupa todas las que tienen el mismo valor de seniority level \n",
    "print(personas.groupby(\"seniority_level\").count(\"A\"), \"contar A\")\n",
    "print(personas.groupby(\"seniority_level\")[[\"persona_id\"]].count()) #me agrupa por categoría de seniority level y me dice cuántos id tiene cada categoria\n",
    "personas[personas[\"sexo_id\"] == 2] # 1) llamo a la tabla 2)llamo a la columna #para que me aparezcan solo los sexo_id que son 2\n"
   ]
  },
  {
   "cell_type": "code",
   "execution_count": null,
   "metadata": {},
   "outputs": [],
   "source": [
    "print(personas['edad'] * 2)   #la edad * 2\n",
    "print(personas['edad'] + 2)   #la edad +2\n",
    "print(personas['edad'] > 2 )  #un booleano. \n",
    "print(personas[personas['edad'] < 30 ])"
   ]
  },
  {
   "cell_type": "code",
   "execution_count": null,
   "metadata": {},
   "outputs": [],
   "source": [
    "# Desafío V: Contá cuántas personas de 30 años ingresaron al ministerio en 2011 ¿Cuántas formas de hacer este cálculo se te ocurren?\n"
   ]
  }
 ],
 "metadata": {
  "language_info": {
   "name": "python"
  },
  "orig_nbformat": 4
 },
 "nbformat": 4,
 "nbformat_minor": 2
}
